{
 "cells": [
  {
   "cell_type": "markdown",
   "id": "232ab06b-ac46-4f3a-a052-fe4d89ae9b08",
   "metadata": {
    "id": "232ab06b-ac46-4f3a-a052-fe4d89ae9b08"
   },
   "source": [
    "### 4.9. Task Submission - Intro to Data Viz - part 1.1 - Google Colab"
   ]
  },
  {
   "cell_type": "markdown",
   "id": "ee076348-ba51-4e44-98db-1912efde23f2",
   "metadata": {
    "id": "ee076348-ba51-4e44-98db-1912efde23f2"
   },
   "source": [
    "#### Directions\n",
    "\n",
    "##### Part 1.1\n",
    "\n",
    "Download the customer data set and add it to your “Original Data” folder.\n",
    "\n",
    "Create a new notebook in your “Scripts” folder for part 1 of this task.\n",
    "\n",
    "Import your analysis libraries, as well as your new customer data set as a dataframe.\n",
    "\n",
    "Wrangle the data so that it follows consistent logic; for example, rename columns with illogical names and drop columns that don’t add anything to your analysis.\n",
    "\n",
    "Complete the fundamental data quality and consistency checks you’ve learned throughout this Achievement; for example, check for and address missing values and duplicates, and convert any mixed-type data.\n",
    "\n",
    "##### Part 1.2\n",
    "\n",
    "Combine your customer data with the rest of your prepared Instacart data. (Hint: Make sure the key columns are the same data type!)\n",
    "\n",
    "Ensure your notebook contains logical titles, section headings, and descriptive code comments.\n",
    "\n",
    "Export this new dataframe as a pickle file so you can continue to use it in the second part of this task.\n",
    "\n",
    "Save your notebook so that you can send it to your tutor for review after completing part 2."
   ]
  },
  {
   "cell_type": "markdown",
   "id": "Ww6_BMHbIOO2",
   "metadata": {
    "id": "Ww6_BMHbIOO2"
   },
   "source": [
    "### Part 1.1"
   ]
  },
  {
   "cell_type": "markdown",
   "id": "fc9293da-18ae-44e5-a8ff-a63a011ee115",
   "metadata": {
    "id": "fc9293da-18ae-44e5-a8ff-a63a011ee115"
   },
   "source": [
    "#### Importing libraries and files"
   ]
  },
  {
   "cell_type": "code",
   "execution_count": null,
   "id": "dvWHUzloGOh1",
   "metadata": {
    "colab": {
     "base_uri": "https://localhost:8080/"
    },
    "executionInfo": {
     "elapsed": 19478,
     "status": "ok",
     "timestamp": 1759876144496,
     "user": {
      "displayName": "Daniela Branca",
      "userId": "04324760329874031992"
     },
     "user_tz": -60
    },
    "id": "dvWHUzloGOh1",
    "outputId": "f99e174d-7691-41d9-e898-8296f05bacdc"
   },
   "outputs": [
    {
     "name": "stdout",
     "output_type": "stream",
     "text": [
      "Mounted at /content/drive\n"
     ]
    }
   ],
   "source": [
    "from google.colab import drive\n",
    "drive.mount('/content/drive')"
   ]
  },
  {
   "cell_type": "code",
   "execution_count": null,
   "id": "24e30b5e-6a26-43a4-943f-2644a2c109b8",
   "metadata": {
    "id": "24e30b5e-6a26-43a4-943f-2644a2c109b8"
   },
   "outputs": [],
   "source": [
    "import pandas as pd\n",
    "import numpy as np\n",
    "import os\n",
    "import matplotlib.pyplot as plt\n",
    "import seaborn as sns\n",
    "import scipy"
   ]
  },
  {
   "cell_type": "code",
   "execution_count": null,
   "id": "gK4MOtBHGbJW",
   "metadata": {
    "id": "gK4MOtBHGbJW"
   },
   "outputs": [],
   "source": [
    "path1 = \"/content/drive/MyDrive/Career Foundry\""
   ]
  },
  {
   "cell_type": "code",
   "execution_count": null,
   "id": "5937af30-6a1f-4b89-b7ba-f80683236fff",
   "metadata": {
    "id": "5937af30-6a1f-4b89-b7ba-f80683236fff"
   },
   "outputs": [],
   "source": [
    "# import customers.csv\n",
    "df_cust = pd.read_csv(os.path.join(path, 'customers.csv'), index_col = False)"
   ]
  },
  {
   "cell_type": "code",
   "execution_count": null,
   "id": "238d40d5-e09d-46e0-987e-b55392d379e4",
   "metadata": {
    "id": "238d40d5-e09d-46e0-987e-b55392d379e4",
    "outputId": "ed8cb982-df10-49b2-eae7-6cf96f810e14"
   },
   "outputs": [
    {
     "data": {
      "text/plain": [
       "(206209, 10)"
      ]
     },
     "execution_count": 4,
     "metadata": {},
     "output_type": "execute_result"
    }
   ],
   "source": [
    "df_cust.shape"
   ]
  },
  {
   "cell_type": "code",
   "execution_count": null,
   "id": "1a0cb34d-863f-4e5c-88c9-401f63ba9545",
   "metadata": {
    "id": "1a0cb34d-863f-4e5c-88c9-401f63ba9545",
    "outputId": "3b7c7beb-4f0b-4f7f-b887-cfecfb5867bb"
   },
   "outputs": [
    {
     "data": {
      "text/html": [
       "<div>\n",
       "<style scoped>\n",
       "    .dataframe tbody tr th:only-of-type {\n",
       "        vertical-align: middle;\n",
       "    }\n",
       "\n",
       "    .dataframe tbody tr th {\n",
       "        vertical-align: top;\n",
       "    }\n",
       "\n",
       "    .dataframe thead th {\n",
       "        text-align: right;\n",
       "    }\n",
       "</style>\n",
       "<table border=\"1\" class=\"dataframe\">\n",
       "  <thead>\n",
       "    <tr style=\"text-align: right;\">\n",
       "      <th></th>\n",
       "      <th>user_id</th>\n",
       "      <th>First Name</th>\n",
       "      <th>Surnam</th>\n",
       "      <th>Gender</th>\n",
       "      <th>STATE</th>\n",
       "      <th>Age</th>\n",
       "      <th>date_joined</th>\n",
       "      <th>n_dependants</th>\n",
       "      <th>fam_status</th>\n",
       "      <th>income</th>\n",
       "    </tr>\n",
       "  </thead>\n",
       "  <tbody>\n",
       "    <tr>\n",
       "      <th>0</th>\n",
       "      <td>26711</td>\n",
       "      <td>Deborah</td>\n",
       "      <td>Esquivel</td>\n",
       "      <td>Female</td>\n",
       "      <td>Missouri</td>\n",
       "      <td>48</td>\n",
       "      <td>1/1/2017</td>\n",
       "      <td>3</td>\n",
       "      <td>married</td>\n",
       "      <td>165665</td>\n",
       "    </tr>\n",
       "    <tr>\n",
       "      <th>1</th>\n",
       "      <td>33890</td>\n",
       "      <td>Patricia</td>\n",
       "      <td>Hart</td>\n",
       "      <td>Female</td>\n",
       "      <td>New Mexico</td>\n",
       "      <td>36</td>\n",
       "      <td>1/1/2017</td>\n",
       "      <td>0</td>\n",
       "      <td>single</td>\n",
       "      <td>59285</td>\n",
       "    </tr>\n",
       "    <tr>\n",
       "      <th>2</th>\n",
       "      <td>65803</td>\n",
       "      <td>Kenneth</td>\n",
       "      <td>Farley</td>\n",
       "      <td>Male</td>\n",
       "      <td>Idaho</td>\n",
       "      <td>35</td>\n",
       "      <td>1/1/2017</td>\n",
       "      <td>2</td>\n",
       "      <td>married</td>\n",
       "      <td>99568</td>\n",
       "    </tr>\n",
       "    <tr>\n",
       "      <th>3</th>\n",
       "      <td>125935</td>\n",
       "      <td>Michelle</td>\n",
       "      <td>Hicks</td>\n",
       "      <td>Female</td>\n",
       "      <td>Iowa</td>\n",
       "      <td>40</td>\n",
       "      <td>1/1/2017</td>\n",
       "      <td>0</td>\n",
       "      <td>single</td>\n",
       "      <td>42049</td>\n",
       "    </tr>\n",
       "    <tr>\n",
       "      <th>4</th>\n",
       "      <td>130797</td>\n",
       "      <td>Ann</td>\n",
       "      <td>Gilmore</td>\n",
       "      <td>Female</td>\n",
       "      <td>Maryland</td>\n",
       "      <td>26</td>\n",
       "      <td>1/1/2017</td>\n",
       "      <td>1</td>\n",
       "      <td>married</td>\n",
       "      <td>40374</td>\n",
       "    </tr>\n",
       "  </tbody>\n",
       "</table>\n",
       "</div>"
      ],
      "text/plain": [
       "   user_id First Name    Surnam  Gender       STATE  Age date_joined  \\\n",
       "0    26711    Deborah  Esquivel  Female    Missouri   48    1/1/2017   \n",
       "1    33890   Patricia      Hart  Female  New Mexico   36    1/1/2017   \n",
       "2    65803    Kenneth    Farley    Male       Idaho   35    1/1/2017   \n",
       "3   125935   Michelle     Hicks  Female        Iowa   40    1/1/2017   \n",
       "4   130797        Ann   Gilmore  Female    Maryland   26    1/1/2017   \n",
       "\n",
       "   n_dependants fam_status  income  \n",
       "0             3    married  165665  \n",
       "1             0     single   59285  \n",
       "2             2    married   99568  \n",
       "3             0     single   42049  \n",
       "4             1    married   40374  "
      ]
     },
     "execution_count": 5,
     "metadata": {},
     "output_type": "execute_result"
    }
   ],
   "source": [
    "df_cust.head()"
   ]
  },
  {
   "cell_type": "markdown",
   "id": "07a7221e-a748-43c2-8bb5-407f6b299e86",
   "metadata": {
    "id": "07a7221e-a748-43c2-8bb5-407f6b299e86"
   },
   "source": [
    "### Data Wrangling and Consistency Checks"
   ]
  },
  {
   "cell_type": "markdown",
   "id": "b53f2c81-e537-4668-acbb-09daa38f5d76",
   "metadata": {
    "id": "b53f2c81-e537-4668-acbb-09daa38f5d76"
   },
   "source": [
    "Collecting → Importing data from CSV, Excel, databases, APIs, etc.\n",
    "\n",
    "Cleaning → Handling missing values, duplicates, typos, and inconsistencies.\n",
    "\n",
    "Transforming → Converting data types, normalizing text, creating new calculated columns.\n",
    "\n",
    "Restructuring → Merging, joining, pivoting, or reshaping data into a usable format.\n",
    "\n",
    "Validating → Checking that the data makes sense (e.g., no negative ages, dates in correct ranges).\n",
    "\n",
    "Enriching (optional) → Adding extra data from other sources."
   ]
  },
  {
   "cell_type": "markdown",
   "id": "71989db7-1bc5-443d-b62a-9b179901cf12",
   "metadata": {},
   "source": [
    "### As per the course, the meanings follow:"
   ]
  },
  {
   "cell_type": "markdown",
   "id": "30e8c171-6108-4625-8a9a-d834c7f3d7a9",
   "metadata": {},
   "source": [
    "### Data Wrangling"
   ]
  },
  {
   "cell_type": "markdown",
   "id": "9b5b7f39-3779-4faa-82c8-40a31dc46708",
   "metadata": {},
   "source": [
    "Dropping Columns\n",
    "\n",
    "Removing Columns\n",
    "\n",
    "Changing Data Types\n",
    "\n",
    "Transposing Data"
   ]
  },
  {
   "cell_type": "markdown",
   "id": "301cff82-2f71-454d-9025-9e5285594061",
   "metadata": {},
   "source": [
    "### Consistency Checks"
   ]
  },
  {
   "cell_type": "markdown",
   "id": "8d8afc6a-38fa-4151-b4f4-aff9e0cd11b1",
   "metadata": {},
   "source": [
    "Finding and Addressing mixed data types\n",
    "\n",
    "Finding and Addressing missing values\n",
    "\n",
    "Finding and Addressing duplicate values"
   ]
  },
  {
   "cell_type": "markdown",
   "id": "1dd7834e-4db7-48da-af2f-4d0dc70b2648",
   "metadata": {
    "id": "1dd7834e-4db7-48da-af2f-4d0dc70b2648"
   },
   "source": [
    "#### renaming columns"
   ]
  },
  {
   "cell_type": "code",
   "execution_count": null,
   "id": "8a92df53-f678-4f66-b3d3-5061a55a3f72",
   "metadata": {
    "id": "8a92df53-f678-4f66-b3d3-5061a55a3f72"
   },
   "outputs": [],
   "source": [
    "# function synthax : df.rename(columns = {'old_name' : 'new_name'}, inplace = True)\n",
    "\n",
    "df_cust.rename(columns = {\n",
    "    'Surnam' : 'surname',\n",
    "    'First Name' : 'first_name',\n",
    "    'Gender' : 'gender',\n",
    "    'STATE' : 'state',\n",
    "    'Age' : 'age'\n",
    "}, inplace = True)\n",
    "\n",
    "# inplace = true means it will overwrite the original column name with the new one rather than creating a copy."
   ]
  },
  {
   "cell_type": "code",
   "execution_count": null,
   "id": "da045a3b-fa4f-45ab-ac2f-bd1a43c4a115",
   "metadata": {
    "colab": {
     "base_uri": "https://localhost:8080/",
     "height": 206
    },
    "executionInfo": {
     "elapsed": 47,
     "status": "ok",
     "timestamp": 1759327722384,
     "user": {
      "displayName": "Daniela Branca",
      "userId": "04324760329874031992"
     },
     "user_tz": -60
    },
    "id": "da045a3b-fa4f-45ab-ac2f-bd1a43c4a115",
    "outputId": "d799aa4f-57bf-494b-932c-ea820fa72145"
   },
   "outputs": [
    {
     "data": {
      "application/vnd.google.colaboratory.intrinsic+json": {
       "type": "dataframe",
       "variable_name": "df_cust"
      },
      "text/html": [
       "\n",
       "  <div id=\"df-9ac7dcbd-71cb-45b0-9f2c-7888764cb2fc\" class=\"colab-df-container\">\n",
       "    <div>\n",
       "<style scoped>\n",
       "    .dataframe tbody tr th:only-of-type {\n",
       "        vertical-align: middle;\n",
       "    }\n",
       "\n",
       "    .dataframe tbody tr th {\n",
       "        vertical-align: top;\n",
       "    }\n",
       "\n",
       "    .dataframe thead th {\n",
       "        text-align: right;\n",
       "    }\n",
       "</style>\n",
       "<table border=\"1\" class=\"dataframe\">\n",
       "  <thead>\n",
       "    <tr style=\"text-align: right;\">\n",
       "      <th></th>\n",
       "      <th>user_id</th>\n",
       "      <th>first_name</th>\n",
       "      <th>surname</th>\n",
       "      <th>gender</th>\n",
       "      <th>state</th>\n",
       "      <th>age</th>\n",
       "      <th>date_joined</th>\n",
       "      <th>n_dependants</th>\n",
       "      <th>fam_status</th>\n",
       "      <th>income</th>\n",
       "    </tr>\n",
       "  </thead>\n",
       "  <tbody>\n",
       "    <tr>\n",
       "      <th>0</th>\n",
       "      <td>26711</td>\n",
       "      <td>Deborah</td>\n",
       "      <td>Esquivel</td>\n",
       "      <td>Female</td>\n",
       "      <td>Missouri</td>\n",
       "      <td>48</td>\n",
       "      <td>1/1/2017</td>\n",
       "      <td>3</td>\n",
       "      <td>married</td>\n",
       "      <td>165665</td>\n",
       "    </tr>\n",
       "    <tr>\n",
       "      <th>1</th>\n",
       "      <td>33890</td>\n",
       "      <td>Patricia</td>\n",
       "      <td>Hart</td>\n",
       "      <td>Female</td>\n",
       "      <td>New Mexico</td>\n",
       "      <td>36</td>\n",
       "      <td>1/1/2017</td>\n",
       "      <td>0</td>\n",
       "      <td>single</td>\n",
       "      <td>59285</td>\n",
       "    </tr>\n",
       "    <tr>\n",
       "      <th>2</th>\n",
       "      <td>65803</td>\n",
       "      <td>Kenneth</td>\n",
       "      <td>Farley</td>\n",
       "      <td>Male</td>\n",
       "      <td>Idaho</td>\n",
       "      <td>35</td>\n",
       "      <td>1/1/2017</td>\n",
       "      <td>2</td>\n",
       "      <td>married</td>\n",
       "      <td>99568</td>\n",
       "    </tr>\n",
       "    <tr>\n",
       "      <th>3</th>\n",
       "      <td>125935</td>\n",
       "      <td>Michelle</td>\n",
       "      <td>Hicks</td>\n",
       "      <td>Female</td>\n",
       "      <td>Iowa</td>\n",
       "      <td>40</td>\n",
       "      <td>1/1/2017</td>\n",
       "      <td>0</td>\n",
       "      <td>single</td>\n",
       "      <td>42049</td>\n",
       "    </tr>\n",
       "    <tr>\n",
       "      <th>4</th>\n",
       "      <td>130797</td>\n",
       "      <td>Ann</td>\n",
       "      <td>Gilmore</td>\n",
       "      <td>Female</td>\n",
       "      <td>Maryland</td>\n",
       "      <td>26</td>\n",
       "      <td>1/1/2017</td>\n",
       "      <td>1</td>\n",
       "      <td>married</td>\n",
       "      <td>40374</td>\n",
       "    </tr>\n",
       "  </tbody>\n",
       "</table>\n",
       "</div>\n",
       "    <div class=\"colab-df-buttons\">\n",
       "\n",
       "  <div class=\"colab-df-container\">\n",
       "    <button class=\"colab-df-convert\" onclick=\"convertToInteractive('df-9ac7dcbd-71cb-45b0-9f2c-7888764cb2fc')\"\n",
       "            title=\"Convert this dataframe to an interactive table.\"\n",
       "            style=\"display:none;\">\n",
       "\n",
       "  <svg xmlns=\"http://www.w3.org/2000/svg\" height=\"24px\" viewBox=\"0 -960 960 960\">\n",
       "    <path d=\"M120-120v-720h720v720H120Zm60-500h600v-160H180v160Zm220 220h160v-160H400v160Zm0 220h160v-160H400v160ZM180-400h160v-160H180v160Zm440 0h160v-160H620v160ZM180-180h160v-160H180v160Zm440 0h160v-160H620v160Z\"/>\n",
       "  </svg>\n",
       "    </button>\n",
       "\n",
       "  <style>\n",
       "    .colab-df-container {\n",
       "      display:flex;\n",
       "      gap: 12px;\n",
       "    }\n",
       "\n",
       "    .colab-df-convert {\n",
       "      background-color: #E8F0FE;\n",
       "      border: none;\n",
       "      border-radius: 50%;\n",
       "      cursor: pointer;\n",
       "      display: none;\n",
       "      fill: #1967D2;\n",
       "      height: 32px;\n",
       "      padding: 0 0 0 0;\n",
       "      width: 32px;\n",
       "    }\n",
       "\n",
       "    .colab-df-convert:hover {\n",
       "      background-color: #E2EBFA;\n",
       "      box-shadow: 0px 1px 2px rgba(60, 64, 67, 0.3), 0px 1px 3px 1px rgba(60, 64, 67, 0.15);\n",
       "      fill: #174EA6;\n",
       "    }\n",
       "\n",
       "    .colab-df-buttons div {\n",
       "      margin-bottom: 4px;\n",
       "    }\n",
       "\n",
       "    [theme=dark] .colab-df-convert {\n",
       "      background-color: #3B4455;\n",
       "      fill: #D2E3FC;\n",
       "    }\n",
       "\n",
       "    [theme=dark] .colab-df-convert:hover {\n",
       "      background-color: #434B5C;\n",
       "      box-shadow: 0px 1px 3px 1px rgba(0, 0, 0, 0.15);\n",
       "      filter: drop-shadow(0px 1px 2px rgba(0, 0, 0, 0.3));\n",
       "      fill: #FFFFFF;\n",
       "    }\n",
       "  </style>\n",
       "\n",
       "    <script>\n",
       "      const buttonEl =\n",
       "        document.querySelector('#df-9ac7dcbd-71cb-45b0-9f2c-7888764cb2fc button.colab-df-convert');\n",
       "      buttonEl.style.display =\n",
       "        google.colab.kernel.accessAllowed ? 'block' : 'none';\n",
       "\n",
       "      async function convertToInteractive(key) {\n",
       "        const element = document.querySelector('#df-9ac7dcbd-71cb-45b0-9f2c-7888764cb2fc');\n",
       "        const dataTable =\n",
       "          await google.colab.kernel.invokeFunction('convertToInteractive',\n",
       "                                                    [key], {});\n",
       "        if (!dataTable) return;\n",
       "\n",
       "        const docLinkHtml = 'Like what you see? Visit the ' +\n",
       "          '<a target=\"_blank\" href=https://colab.research.google.com/notebooks/data_table.ipynb>data table notebook</a>'\n",
       "          + ' to learn more about interactive tables.';\n",
       "        element.innerHTML = '';\n",
       "        dataTable['output_type'] = 'display_data';\n",
       "        await google.colab.output.renderOutput(dataTable, element);\n",
       "        const docLink = document.createElement('div');\n",
       "        docLink.innerHTML = docLinkHtml;\n",
       "        element.appendChild(docLink);\n",
       "      }\n",
       "    </script>\n",
       "  </div>\n",
       "\n",
       "\n",
       "    <div id=\"df-61d8000f-5571-4e35-a322-f1404ca00490\">\n",
       "      <button class=\"colab-df-quickchart\" onclick=\"quickchart('df-61d8000f-5571-4e35-a322-f1404ca00490')\"\n",
       "                title=\"Suggest charts\"\n",
       "                style=\"display:none;\">\n",
       "\n",
       "<svg xmlns=\"http://www.w3.org/2000/svg\" height=\"24px\"viewBox=\"0 0 24 24\"\n",
       "     width=\"24px\">\n",
       "    <g>\n",
       "        <path d=\"M19 3H5c-1.1 0-2 .9-2 2v14c0 1.1.9 2 2 2h14c1.1 0 2-.9 2-2V5c0-1.1-.9-2-2-2zM9 17H7v-7h2v7zm4 0h-2V7h2v10zm4 0h-2v-4h2v4z\"/>\n",
       "    </g>\n",
       "</svg>\n",
       "      </button>\n",
       "\n",
       "<style>\n",
       "  .colab-df-quickchart {\n",
       "      --bg-color: #E8F0FE;\n",
       "      --fill-color: #1967D2;\n",
       "      --hover-bg-color: #E2EBFA;\n",
       "      --hover-fill-color: #174EA6;\n",
       "      --disabled-fill-color: #AAA;\n",
       "      --disabled-bg-color: #DDD;\n",
       "  }\n",
       "\n",
       "  [theme=dark] .colab-df-quickchart {\n",
       "      --bg-color: #3B4455;\n",
       "      --fill-color: #D2E3FC;\n",
       "      --hover-bg-color: #434B5C;\n",
       "      --hover-fill-color: #FFFFFF;\n",
       "      --disabled-bg-color: #3B4455;\n",
       "      --disabled-fill-color: #666;\n",
       "  }\n",
       "\n",
       "  .colab-df-quickchart {\n",
       "    background-color: var(--bg-color);\n",
       "    border: none;\n",
       "    border-radius: 50%;\n",
       "    cursor: pointer;\n",
       "    display: none;\n",
       "    fill: var(--fill-color);\n",
       "    height: 32px;\n",
       "    padding: 0;\n",
       "    width: 32px;\n",
       "  }\n",
       "\n",
       "  .colab-df-quickchart:hover {\n",
       "    background-color: var(--hover-bg-color);\n",
       "    box-shadow: 0 1px 2px rgba(60, 64, 67, 0.3), 0 1px 3px 1px rgba(60, 64, 67, 0.15);\n",
       "    fill: var(--button-hover-fill-color);\n",
       "  }\n",
       "\n",
       "  .colab-df-quickchart-complete:disabled,\n",
       "  .colab-df-quickchart-complete:disabled:hover {\n",
       "    background-color: var(--disabled-bg-color);\n",
       "    fill: var(--disabled-fill-color);\n",
       "    box-shadow: none;\n",
       "  }\n",
       "\n",
       "  .colab-df-spinner {\n",
       "    border: 2px solid var(--fill-color);\n",
       "    border-color: transparent;\n",
       "    border-bottom-color: var(--fill-color);\n",
       "    animation:\n",
       "      spin 1s steps(1) infinite;\n",
       "  }\n",
       "\n",
       "  @keyframes spin {\n",
       "    0% {\n",
       "      border-color: transparent;\n",
       "      border-bottom-color: var(--fill-color);\n",
       "      border-left-color: var(--fill-color);\n",
       "    }\n",
       "    20% {\n",
       "      border-color: transparent;\n",
       "      border-left-color: var(--fill-color);\n",
       "      border-top-color: var(--fill-color);\n",
       "    }\n",
       "    30% {\n",
       "      border-color: transparent;\n",
       "      border-left-color: var(--fill-color);\n",
       "      border-top-color: var(--fill-color);\n",
       "      border-right-color: var(--fill-color);\n",
       "    }\n",
       "    40% {\n",
       "      border-color: transparent;\n",
       "      border-right-color: var(--fill-color);\n",
       "      border-top-color: var(--fill-color);\n",
       "    }\n",
       "    60% {\n",
       "      border-color: transparent;\n",
       "      border-right-color: var(--fill-color);\n",
       "    }\n",
       "    80% {\n",
       "      border-color: transparent;\n",
       "      border-right-color: var(--fill-color);\n",
       "      border-bottom-color: var(--fill-color);\n",
       "    }\n",
       "    90% {\n",
       "      border-color: transparent;\n",
       "      border-bottom-color: var(--fill-color);\n",
       "    }\n",
       "  }\n",
       "</style>\n",
       "\n",
       "      <script>\n",
       "        async function quickchart(key) {\n",
       "          const quickchartButtonEl =\n",
       "            document.querySelector('#' + key + ' button');\n",
       "          quickchartButtonEl.disabled = true;  // To prevent multiple clicks.\n",
       "          quickchartButtonEl.classList.add('colab-df-spinner');\n",
       "          try {\n",
       "            const charts = await google.colab.kernel.invokeFunction(\n",
       "                'suggestCharts', [key], {});\n",
       "          } catch (error) {\n",
       "            console.error('Error during call to suggestCharts:', error);\n",
       "          }\n",
       "          quickchartButtonEl.classList.remove('colab-df-spinner');\n",
       "          quickchartButtonEl.classList.add('colab-df-quickchart-complete');\n",
       "        }\n",
       "        (() => {\n",
       "          let quickchartButtonEl =\n",
       "            document.querySelector('#df-61d8000f-5571-4e35-a322-f1404ca00490 button');\n",
       "          quickchartButtonEl.style.display =\n",
       "            google.colab.kernel.accessAllowed ? 'block' : 'none';\n",
       "        })();\n",
       "      </script>\n",
       "    </div>\n",
       "\n",
       "    </div>\n",
       "  </div>\n"
      ],
      "text/plain": [
       "   user_id first_name   surname  gender       state  age date_joined  \\\n",
       "0    26711    Deborah  Esquivel  Female    Missouri   48    1/1/2017   \n",
       "1    33890   Patricia      Hart  Female  New Mexico   36    1/1/2017   \n",
       "2    65803    Kenneth    Farley    Male       Idaho   35    1/1/2017   \n",
       "3   125935   Michelle     Hicks  Female        Iowa   40    1/1/2017   \n",
       "4   130797        Ann   Gilmore  Female    Maryland   26    1/1/2017   \n",
       "\n",
       "   n_dependants fam_status  income  \n",
       "0             3    married  165665  \n",
       "1             0     single   59285  \n",
       "2             2    married   99568  \n",
       "3             0     single   42049  \n",
       "4             1    married   40374  "
      ]
     },
     "execution_count": 6,
     "metadata": {},
     "output_type": "execute_result"
    }
   ],
   "source": [
    "df_cust.head()"
   ]
  },
  {
   "cell_type": "markdown",
   "id": "448fef0e-354f-4cd7-914f-44ae07571776",
   "metadata": {
    "id": "448fef0e-354f-4cd7-914f-44ae07571776"
   },
   "source": [
    "#### checking datatypes"
   ]
  },
  {
   "cell_type": "code",
   "execution_count": null,
   "id": "85f847d5-d4a7-46c0-b97e-c39dddf9dee4",
   "metadata": {
    "id": "85f847d5-d4a7-46c0-b97e-c39dddf9dee4",
    "outputId": "77dd45c8-f198-4c6d-9c76-9dbc42e93f1d"
   },
   "outputs": [
    {
     "name": "stdout",
     "output_type": "stream",
     "text": [
      "<class 'pandas.core.frame.DataFrame'>\n",
      "RangeIndex: 206209 entries, 0 to 206208\n",
      "Data columns (total 10 columns):\n",
      " #   Column        Non-Null Count   Dtype \n",
      "---  ------        --------------   ----- \n",
      " 0   user_id       206209 non-null  int64 \n",
      " 1   first_name    194950 non-null  object\n",
      " 2   surname       206209 non-null  object\n",
      " 3   gender        206209 non-null  object\n",
      " 4   state         206209 non-null  object\n",
      " 5   age           206209 non-null  int64 \n",
      " 6   date_joined   206209 non-null  object\n",
      " 7   n_dependants  206209 non-null  int64 \n",
      " 8   fam_status    206209 non-null  object\n",
      " 9   income        206209 non-null  int64 \n",
      "dtypes: int64(4), object(6)\n",
      "memory usage: 15.7+ MB\n"
     ]
    }
   ],
   "source": [
    "df_cust.info()"
   ]
  },
  {
   "cell_type": "markdown",
   "id": "f8c02854-a69f-4de9-99f8-042ccb3fcea2",
   "metadata": {
    "id": "f8c02854-a69f-4de9-99f8-042ccb3fcea2"
   },
   "source": [
    "#### Note:\n",
    "this line of code will also say the datatypes:\n",
    "````python\n",
    "df_cust.dtypes"
   ]
  },
  {
   "cell_type": "code",
   "execution_count": null,
   "id": "472b670d-8c00-4331-9030-20c51d97fe05",
   "metadata": {
    "id": "472b670d-8c00-4331-9030-20c51d97fe05",
    "outputId": "8545ec29-5815-49ab-a6b5-450668cd0d37"
   },
   "outputs": [
    {
     "name": "stdout",
     "output_type": "stream",
     "text": [
      "user_id\n",
      "first_name\n",
      "age\n",
      "n_dependants\n",
      "income\n"
     ]
    }
   ],
   "source": [
    "#checking whether a dataframe contains any mixed-type columns:\n",
    "\n",
    "for col in df_cust.columns:\n",
    "    weird = (df_cust[col].map(type) != type(df_cust[col].iloc[0]))\n",
    "    if weird.any():\n",
    "        print(col)"
   ]
  },
  {
   "cell_type": "code",
   "execution_count": null,
   "id": "dd3e11bf-dd81-4b30-8f4a-a1e2b1d64240",
   "metadata": {
    "id": "dd3e11bf-dd81-4b30-8f4a-a1e2b1d64240"
   },
   "outputs": [],
   "source": [
    "# This is an efficient way of changing data types, by creating a dictionary:\n",
    "\n",
    "df_cust = df_cust.astype({\n",
    "    'user_id' : 'str',\n",
    "    'first_name': 'str',\n",
    "    'age': 'int64',\n",
    "    'n_dependants': 'int64',\n",
    "    'income' : 'int64'\n",
    "})"
   ]
  },
  {
   "cell_type": "code",
   "execution_count": null,
   "id": "fd86513f-a74c-4fcd-863d-2f0f63af9842",
   "metadata": {
    "id": "fd86513f-a74c-4fcd-863d-2f0f63af9842",
    "outputId": "68cd96fa-99fa-4e79-c6ca-e4f216f8c934"
   },
   "outputs": [
    {
     "data": {
      "text/html": [
       "<div>\n",
       "<style scoped>\n",
       "    .dataframe tbody tr th:only-of-type {\n",
       "        vertical-align: middle;\n",
       "    }\n",
       "\n",
       "    .dataframe tbody tr th {\n",
       "        vertical-align: top;\n",
       "    }\n",
       "\n",
       "    .dataframe thead th {\n",
       "        text-align: right;\n",
       "    }\n",
       "</style>\n",
       "<table border=\"1\" class=\"dataframe\">\n",
       "  <thead>\n",
       "    <tr style=\"text-align: right;\">\n",
       "      <th></th>\n",
       "      <th>age</th>\n",
       "      <th>n_dependants</th>\n",
       "      <th>income</th>\n",
       "    </tr>\n",
       "  </thead>\n",
       "  <tbody>\n",
       "    <tr>\n",
       "      <th>count</th>\n",
       "      <td>206209.000000</td>\n",
       "      <td>206209.000000</td>\n",
       "      <td>206209.000000</td>\n",
       "    </tr>\n",
       "    <tr>\n",
       "      <th>mean</th>\n",
       "      <td>49.501646</td>\n",
       "      <td>1.499823</td>\n",
       "      <td>94632.852548</td>\n",
       "    </tr>\n",
       "    <tr>\n",
       "      <th>std</th>\n",
       "      <td>18.480962</td>\n",
       "      <td>1.118433</td>\n",
       "      <td>42473.786988</td>\n",
       "    </tr>\n",
       "    <tr>\n",
       "      <th>min</th>\n",
       "      <td>18.000000</td>\n",
       "      <td>0.000000</td>\n",
       "      <td>25903.000000</td>\n",
       "    </tr>\n",
       "    <tr>\n",
       "      <th>25%</th>\n",
       "      <td>33.000000</td>\n",
       "      <td>0.000000</td>\n",
       "      <td>59874.000000</td>\n",
       "    </tr>\n",
       "    <tr>\n",
       "      <th>50%</th>\n",
       "      <td>49.000000</td>\n",
       "      <td>1.000000</td>\n",
       "      <td>93547.000000</td>\n",
       "    </tr>\n",
       "    <tr>\n",
       "      <th>75%</th>\n",
       "      <td>66.000000</td>\n",
       "      <td>3.000000</td>\n",
       "      <td>124244.000000</td>\n",
       "    </tr>\n",
       "    <tr>\n",
       "      <th>max</th>\n",
       "      <td>81.000000</td>\n",
       "      <td>3.000000</td>\n",
       "      <td>593901.000000</td>\n",
       "    </tr>\n",
       "  </tbody>\n",
       "</table>\n",
       "</div>"
      ],
      "text/plain": [
       "                 age   n_dependants         income\n",
       "count  206209.000000  206209.000000  206209.000000\n",
       "mean       49.501646       1.499823   94632.852548\n",
       "std        18.480962       1.118433   42473.786988\n",
       "min        18.000000       0.000000   25903.000000\n",
       "25%        33.000000       0.000000   59874.000000\n",
       "50%        49.000000       1.000000   93547.000000\n",
       "75%        66.000000       3.000000  124244.000000\n",
       "max        81.000000       3.000000  593901.000000"
      ]
     },
     "execution_count": 10,
     "metadata": {},
     "output_type": "execute_result"
    }
   ],
   "source": [
    "df_cust.describe()"
   ]
  },
  {
   "cell_type": "code",
   "execution_count": null,
   "id": "8c32d8c4-5e87-4167-8b6b-094e37bddbc0",
   "metadata": {
    "id": "8c32d8c4-5e87-4167-8b6b-094e37bddbc0",
    "outputId": "9222f07c-c175-4507-e98b-783f8cd69891"
   },
   "outputs": [
    {
     "name": "stdout",
     "output_type": "stream",
     "text": [
      "<class 'pandas.core.frame.DataFrame'>\n",
      "RangeIndex: 206209 entries, 0 to 206208\n",
      "Data columns (total 10 columns):\n",
      " #   Column        Non-Null Count   Dtype \n",
      "---  ------        --------------   ----- \n",
      " 0   user_id       206209 non-null  object\n",
      " 1   first_name    206209 non-null  object\n",
      " 2   surname       206209 non-null  object\n",
      " 3   gender        206209 non-null  object\n",
      " 4   state         206209 non-null  object\n",
      " 5   age           206209 non-null  int64 \n",
      " 6   date_joined   206209 non-null  object\n",
      " 7   n_dependants  206209 non-null  int64 \n",
      " 8   fam_status    206209 non-null  object\n",
      " 9   income        206209 non-null  int64 \n",
      "dtypes: int64(3), object(7)\n",
      "memory usage: 15.7+ MB\n"
     ]
    }
   ],
   "source": [
    "df_cust.info()"
   ]
  },
  {
   "cell_type": "markdown",
   "id": "d31fe1c9-afeb-41aa-891a-7665e6f5ddb2",
   "metadata": {
    "id": "d31fe1c9-afeb-41aa-891a-7665e6f5ddb2"
   },
   "source": [
    "#### Handling missing values"
   ]
  },
  {
   "cell_type": "code",
   "execution_count": null,
   "id": "54d8739d-a2f7-4362-b630-1099933dbdc2",
   "metadata": {
    "id": "54d8739d-a2f7-4362-b630-1099933dbdc2",
    "outputId": "0f279466-be4c-4db5-8815-3fc6ff2e1bc0"
   },
   "outputs": [
    {
     "data": {
      "text/plain": [
       "user_id         0\n",
       "first_name      0\n",
       "surname         0\n",
       "gender          0\n",
       "state           0\n",
       "age             0\n",
       "date_joined     0\n",
       "n_dependants    0\n",
       "fam_status      0\n",
       "income          0\n",
       "dtype: int64"
      ]
     },
     "execution_count": 11,
     "metadata": {},
     "output_type": "execute_result"
    }
   ],
   "source": [
    "df_cust.isnull().sum()"
   ]
  },
  {
   "cell_type": "markdown",
   "id": "79b18ba7-e143-4f13-a035-63e018a2c5bc",
   "metadata": {
    "id": "79b18ba7-e143-4f13-a035-63e018a2c5bc"
   },
   "source": [
    "````python\n",
    "df_cust['first_name'].value_counts(dropna = False)"
   ]
  },
  {
   "cell_type": "markdown",
   "id": "b42ca0a8-28d6-47f8-bc3f-0093bae86a16",
   "metadata": {
    "id": "b42ca0a8-28d6-47f8-bc3f-0093bae86a16",
    "scrolled": true
   },
   "source": [
    "There is no need for this but if there were missing values, this would create a dataframe to see where those would be:\n",
    "````python\n",
    "df_nan = df_cust[df_cust['first_name'].isnull() == True]\n",
    "df_nan"
   ]
  },
  {
   "cell_type": "markdown",
   "id": "9451b089-5def-43a4-a650-34313036a41f",
   "metadata": {
    "id": "9451b089-5def-43a4-a650-34313036a41f"
   },
   "source": [
    "#### checking for duplicates"
   ]
  },
  {
   "cell_type": "code",
   "execution_count": null,
   "id": "3918b2de-3463-4cad-aba4-56d3299c84c2",
   "metadata": {
    "id": "3918b2de-3463-4cad-aba4-56d3299c84c2",
    "outputId": "1c438f20-787e-41c5-f134-1b0cf811bce9"
   },
   "outputs": [
    {
     "data": {
      "text/html": [
       "<div>\n",
       "<style scoped>\n",
       "    .dataframe tbody tr th:only-of-type {\n",
       "        vertical-align: middle;\n",
       "    }\n",
       "\n",
       "    .dataframe tbody tr th {\n",
       "        vertical-align: top;\n",
       "    }\n",
       "\n",
       "    .dataframe thead th {\n",
       "        text-align: right;\n",
       "    }\n",
       "</style>\n",
       "<table border=\"1\" class=\"dataframe\">\n",
       "  <thead>\n",
       "    <tr style=\"text-align: right;\">\n",
       "      <th></th>\n",
       "      <th>user_id</th>\n",
       "      <th>first_name</th>\n",
       "      <th>surname</th>\n",
       "      <th>gender</th>\n",
       "      <th>state</th>\n",
       "      <th>age</th>\n",
       "      <th>date_joined</th>\n",
       "      <th>n_dependants</th>\n",
       "      <th>fam_status</th>\n",
       "      <th>income</th>\n",
       "    </tr>\n",
       "  </thead>\n",
       "  <tbody>\n",
       "  </tbody>\n",
       "</table>\n",
       "</div>"
      ],
      "text/plain": [
       "Empty DataFrame\n",
       "Columns: [user_id, first_name, surname, gender, state, age, date_joined, n_dependants, fam_status, income]\n",
       "Index: []"
      ]
     },
     "execution_count": 13,
     "metadata": {},
     "output_type": "execute_result"
    }
   ],
   "source": [
    "df_dups = df_cust[df_cust.duplicated()]\n",
    "df_dups"
   ]
  },
  {
   "cell_type": "markdown",
   "id": "eb80efa3-a4c0-4c33-90ec-1bd9c23a2482",
   "metadata": {
    "id": "eb80efa3-a4c0-4c33-90ec-1bd9c23a2482"
   },
   "source": [
    "No duplicates were found. Good."
   ]
  },
  {
   "cell_type": "code",
   "execution_count": null,
   "id": "VDt-q9gPGw54",
   "metadata": {
    "id": "VDt-q9gPGw54"
   },
   "outputs": [],
   "source": [
    "# exporting clean cust.csv\n",
    "path = \"/content/drive/MyDrive/Career Foundry/customers_clean.csv\"\n",
    "df_cust.to_csv(path, index=False)\n",
    "# with google colab, exporting to a specific google drive folder demands writing the path again. interesting."
   ]
  },
  {
   "cell_type": "code",
   "execution_count": null,
   "id": "a4a4d4c2-d34a-49c8-a7fc-df57c383173c",
   "metadata": {
    "id": "a4a4d4c2-d34a-49c8-a7fc-df57c383173c"
   },
   "outputs": [],
   "source": [
    "#uploading file to merge:\n",
    "ords_prods_merge = pd.read_pickle(rf'{path1}/ords_prods_merge_groups.pkl')"
   ]
  },
  {
   "cell_type": "code",
   "execution_count": null,
   "id": "KgvydWecMkXK",
   "metadata": {
    "id": "KgvydWecMkXK"
   },
   "outputs": [],
   "source": [
    "# exporting it to parquet (lighter and faster):\n",
    "path2 = \"/content/drive/MyDrive/Career Foundry/ords_prods_merge_groups.parquet\"\n",
    "ords_prods_merge.to_parquet(path2, engine=\"pyarrow\", index=False)"
   ]
  },
  {
   "cell_type": "markdown",
   "id": "vukOsjtQIyPD",
   "metadata": {
    "id": "vukOsjtQIyPD"
   },
   "source": [
    "### Part 1.2 follows with Kaggle."
   ]
  }
 ],
 "metadata": {
  "colab": {
   "provenance": [],
   "runtime_attributes": {
    "runtime_version": "2025.07"
   }
  },
  "kaggle": {
   "accelerator": "none",
   "dataSources": [],
   "dockerImageVersionId": 31153,
   "isGpuEnabled": false,
   "isInternetEnabled": false,
   "language": "python",
   "sourceType": "notebook"
  },
  "kernelspec": {
   "display_name": "Python [conda env:base] *",
   "language": "python",
   "name": "conda-base-py"
  },
  "language_info": {
   "codemirror_mode": {
    "name": "ipython",
    "version": 3
   },
   "file_extension": ".py",
   "mimetype": "text/x-python",
   "name": "python",
   "nbconvert_exporter": "python",
   "pygments_lexer": "ipython3",
   "version": "3.13.5"
  }
 },
 "nbformat": 4,
 "nbformat_minor": 5
}
