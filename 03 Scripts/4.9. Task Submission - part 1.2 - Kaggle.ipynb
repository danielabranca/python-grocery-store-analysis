{
 "cells": [
  {
   "cell_type": "markdown",
   "metadata": {
    "id": "232ab06b-ac46-4f3a-a052-fe4d89ae9b08"
   },
   "source": [
    "### 4.9. Task Submission - Intro to Data Viz - part 1.2 - Kaggle"
   ]
  },
  {
   "cell_type": "markdown",
   "metadata": {
    "id": "ee076348-ba51-4e44-98db-1912efde23f2"
   },
   "source": [
    "#### Directions\n",
    "\n",
    "##### Part 1.1\n",
    "\n",
    "Download the customer data set and add it to your “Original Data” folder.\n",
    "\n",
    "Create a new notebook in your “Scripts” folder for part 1 of this task.\n",
    "\n",
    "Import your analysis libraries, as well as your new customer data set as a dataframe.\n",
    "\n",
    "Wrangle the data so that it follows consistent logic; for example, rename columns with illogical names and drop columns that don’t add anything to your analysis.\n",
    "\n",
    "Complete the fundamental data quality and consistency checks you’ve learned throughout this Achievement; for example, check for and address missing values and duplicates, and convert any mixed-type data.\n",
    "\n",
    "##### Part 1.2\n",
    "\n",
    "Combine your customer data with the rest of your prepared Instacart data. (Hint: Make sure the key columns are the same data type!)\n",
    "\n",
    "Ensure your notebook contains logical titles, section headings, and descriptive code comments.\n",
    "\n",
    "Export this new dataframe as a pickle file so you can continue to use it in the second part of this task.\n",
    "\n",
    "Save your notebook so that you can send it to your tutor for review after completing part 2."
   ]
  },
  {
   "cell_type": "markdown",
   "metadata": {
    "id": "fc9293da-18ae-44e5-a8ff-a63a011ee115"
   },
   "source": [
    "#### Importing libraries and files"
   ]
  },
  {
   "cell_type": "code",
   "execution_count": 1,
   "metadata": {
    "execution": {
     "iopub.execute_input": "2025-10-17T00:41:36.546210Z",
     "iopub.status.busy": "2025-10-17T00:41:36.545886Z",
     "iopub.status.idle": "2025-10-17T00:41:40.222892Z",
     "shell.execute_reply": "2025-10-17T00:41:40.221659Z",
     "shell.execute_reply.started": "2025-10-17T00:41:36.546174Z"
    },
    "id": "24e30b5e-6a26-43a4-943f-2644a2c109b8"
   },
   "outputs": [],
   "source": [
    "import pandas as pd\n",
    "import numpy as np\n",
    "import os\n",
    "import polars as pl"
   ]
  },
  {
   "cell_type": "code",
   "execution_count": 2,
   "metadata": {
    "execution": {
     "iopub.execute_input": "2025-10-17T00:41:40.225857Z",
     "iopub.status.busy": "2025-10-17T00:41:40.225330Z",
     "iopub.status.idle": "2025-10-17T00:41:40.232890Z",
     "shell.execute_reply": "2025-10-17T00:41:40.230813Z",
     "shell.execute_reply.started": "2025-10-17T00:41:40.225821Z"
    },
    "id": "gK4MOtBHGbJW"
   },
   "outputs": [],
   "source": [
    "path = \"/kaggle/input/instacart/\""
   ]
  },
  {
   "cell_type": "code",
   "execution_count": 3,
   "metadata": {
    "execution": {
     "iopub.execute_input": "2025-10-17T00:41:40.235735Z",
     "iopub.status.busy": "2025-10-17T00:41:40.235309Z",
     "iopub.status.idle": "2025-10-17T00:41:40.828728Z",
     "shell.execute_reply": "2025-10-17T00:41:40.827472Z",
     "shell.execute_reply.started": "2025-10-17T00:41:40.235698Z"
    },
    "id": "5937af30-6a1f-4b89-b7ba-f80683236fff"
   },
   "outputs": [],
   "source": [
    "# import customers.csv\n",
    "df_cust = pd.read_csv(os.path.join(path, 'customers_clean.csv'), index_col = False)"
   ]
  },
  {
   "cell_type": "code",
   "execution_count": 5,
   "metadata": {
    "execution": {
     "iopub.execute_input": "2025-10-17T00:42:26.388292Z",
     "iopub.status.busy": "2025-10-17T00:42:26.387893Z",
     "iopub.status.idle": "2025-10-17T00:42:38.749772Z",
     "shell.execute_reply": "2025-10-17T00:42:38.747849Z",
     "shell.execute_reply.started": "2025-10-17T00:42:26.388257Z"
    }
   },
   "outputs": [],
   "source": [
    "# imp. parquet:\n",
    "ords_prods_pq = pl.read_parquet(os.path.join(path, 'ords_prods_merge_groups.parquet'))"
   ]
  },
  {
   "cell_type": "code",
   "execution_count": 6,
   "metadata": {
    "execution": {
     "iopub.execute_input": "2025-10-17T00:42:44.312518Z",
     "iopub.status.busy": "2025-10-17T00:42:44.311677Z",
     "iopub.status.idle": "2025-10-17T00:42:44.327058Z",
     "shell.execute_reply": "2025-10-17T00:42:44.325629Z",
     "shell.execute_reply.started": "2025-10-17T00:42:44.312491Z"
    }
   },
   "outputs": [
    {
     "data": {
      "text/plain": [
       "(32404859, 25)"
      ]
     },
     "execution_count": 6,
     "metadata": {},
     "output_type": "execute_result"
    }
   ],
   "source": [
    "ords_prods_pq.shape"
   ]
  },
  {
   "cell_type": "code",
   "execution_count": 7,
   "metadata": {
    "execution": {
     "iopub.execute_input": "2025-10-17T00:42:46.972270Z",
     "iopub.status.busy": "2025-10-17T00:42:46.970585Z",
     "iopub.status.idle": "2025-10-17T00:42:46.985153Z",
     "shell.execute_reply": "2025-10-17T00:42:46.983841Z",
     "shell.execute_reply.started": "2025-10-17T00:42:46.972231Z"
    }
   },
   "outputs": [
    {
     "data": {
      "text/plain": [
       "['order_id',\n",
       " 'user_id',\n",
       " 'order_number',\n",
       " 'orders_day_of_week',\n",
       " 'order_hour_of_day',\n",
       " 'days_since_prior_order',\n",
       " 'product_id',\n",
       " 'add_to_cart_order',\n",
       " 'reordered',\n",
       " '_merge',\n",
       " 'product_name',\n",
       " 'aisle_id',\n",
       " 'department_id',\n",
       " 'prices',\n",
       " 'match',\n",
       " 'price_range_loc',\n",
       " 'busiest_day',\n",
       " 'orders_affluence',\n",
       " 'busiest_period_of_day',\n",
       " 'max_order',\n",
       " 'loyalty_flag',\n",
       " 'user_avg_price',\n",
       " 'spending_flag',\n",
       " 'user_ord_freq',\n",
       " 'order_frequency_flag']"
      ]
     },
     "execution_count": 7,
     "metadata": {},
     "output_type": "execute_result"
    }
   ],
   "source": [
    "ords_prods_pq.columns"
   ]
  },
  {
   "cell_type": "code",
   "execution_count": 12,
   "metadata": {
    "execution": {
     "iopub.execute_input": "2025-10-17T00:43:48.247449Z",
     "iopub.status.busy": "2025-10-17T00:43:48.247072Z",
     "iopub.status.idle": "2025-10-17T00:43:48.577050Z",
     "shell.execute_reply": "2025-10-17T00:43:48.575939Z",
     "shell.execute_reply.started": "2025-10-17T00:43:48.247424Z"
    }
   },
   "outputs": [],
   "source": [
    "#converting pandas df to polars df\n",
    "df_cust = pl.from_pandas(df_cust)"
   ]
  },
  {
   "cell_type": "code",
   "execution_count": 13,
   "metadata": {
    "execution": {
     "iopub.execute_input": "2025-10-17T00:43:53.347484Z",
     "iopub.status.busy": "2025-10-17T00:43:53.347114Z",
     "iopub.status.idle": "2025-10-17T00:44:12.455907Z",
     "shell.execute_reply": "2025-10-17T00:44:12.454660Z",
     "shell.execute_reply.started": "2025-10-17T00:43:53.347459Z"
    }
   },
   "outputs": [],
   "source": [
    "ddf_merge = ords_prods_pq.join(df_cust, on = ['user_id'], how='inner')\n",
    "# creating the merge in polars; it works, it's more efficient, but could not create an indicator."
   ]
  },
  {
   "cell_type": "code",
   "execution_count": 14,
   "metadata": {
    "execution": {
     "iopub.execute_input": "2025-10-17T00:44:17.962170Z",
     "iopub.status.busy": "2025-10-17T00:44:17.961869Z",
     "iopub.status.idle": "2025-10-17T00:44:17.979881Z",
     "shell.execute_reply": "2025-10-17T00:44:17.978862Z",
     "shell.execute_reply.started": "2025-10-17T00:44:17.962150Z"
    }
   },
   "outputs": [
    {
     "data": {
      "text/html": [
       "<div><style>\n",
       ".dataframe > thead > tr,\n",
       ".dataframe > tbody > tr {\n",
       "  text-align: right;\n",
       "  white-space: pre-wrap;\n",
       "}\n",
       "</style>\n",
       "<small>shape: (5, 34)</small><table border=\"1\" class=\"dataframe\"><thead><tr><th>order_id</th><th>user_id</th><th>order_number</th><th>orders_day_of_week</th><th>order_hour_of_day</th><th>days_since_prior_order</th><th>product_id</th><th>add_to_cart_order</th><th>reordered</th><th>_merge</th><th>product_name</th><th>aisle_id</th><th>department_id</th><th>prices</th><th>match</th><th>price_range_loc</th><th>busiest_day</th><th>orders_affluence</th><th>busiest_period_of_day</th><th>max_order</th><th>loyalty_flag</th><th>user_avg_price</th><th>spending_flag</th><th>user_ord_freq</th><th>order_frequency_flag</th><th>first_name</th><th>surname</th><th>gender</th><th>state</th><th>age</th><th>date_joined</th><th>n_dependants</th><th>fam_status</th><th>income</th></tr><tr><td>i64</td><td>i64</td><td>i64</td><td>i64</td><td>i64</td><td>f64</td><td>i64</td><td>i64</td><td>i64</td><td>cat</td><td>str</td><td>i64</td><td>i64</td><td>f64</td><td>cat</td><td>str</td><td>str</td><td>str</td><td>str</td><td>i64</td><td>str</td><td>f64</td><td>str</td><td>f64</td><td>str</td><td>str</td><td>str</td><td>str</td><td>str</td><td>i64</td><td>str</td><td>i64</td><td>str</td><td>i64</td></tr></thead><tbody><tr><td>2539329</td><td>1</td><td>1</td><td>2</td><td>8</td><td>null</td><td>196</td><td>1</td><td>0</td><td>&quot;both&quot;</td><td>&quot;Soda&quot;</td><td>77</td><td>7</td><td>9.0</td><td>&quot;both&quot;</td><td>&quot;Mid-range product&quot;</td><td>&quot;Regularly busy&quot;</td><td>&quot;Regularly busy&quot;</td><td>&quot;Average orders&quot;</td><td>10</td><td>&quot;New customer&quot;</td><td>6.367797</td><td>&quot;Low Spender&quot;</td><td>20.5</td><td>&quot;Non-frequent customer&quot;</td><td>&quot;Linda&quot;</td><td>&quot;Nguyen&quot;</td><td>&quot;Female&quot;</td><td>&quot;Alabama&quot;</td><td>31</td><td>&quot;2/17/2019&quot;</td><td>3</td><td>&quot;married&quot;</td><td>40423</td></tr><tr><td>2539329</td><td>1</td><td>1</td><td>2</td><td>8</td><td>null</td><td>14084</td><td>2</td><td>0</td><td>&quot;both&quot;</td><td>&quot;Organic Unsweetened Vanilla Al…</td><td>91</td><td>16</td><td>12.5</td><td>&quot;both&quot;</td><td>&quot;Mid-range product&quot;</td><td>&quot;Regularly busy&quot;</td><td>&quot;Regularly busy&quot;</td><td>&quot;Average orders&quot;</td><td>10</td><td>&quot;New customer&quot;</td><td>6.367797</td><td>&quot;Low Spender&quot;</td><td>20.5</td><td>&quot;Non-frequent customer&quot;</td><td>&quot;Linda&quot;</td><td>&quot;Nguyen&quot;</td><td>&quot;Female&quot;</td><td>&quot;Alabama&quot;</td><td>31</td><td>&quot;2/17/2019&quot;</td><td>3</td><td>&quot;married&quot;</td><td>40423</td></tr><tr><td>2539329</td><td>1</td><td>1</td><td>2</td><td>8</td><td>null</td><td>12427</td><td>3</td><td>0</td><td>&quot;both&quot;</td><td>&quot;Original Beef Jerky&quot;</td><td>23</td><td>19</td><td>4.4</td><td>&quot;both&quot;</td><td>&quot;Low-range product&quot;</td><td>&quot;Regularly busy&quot;</td><td>&quot;Regularly busy&quot;</td><td>&quot;Average orders&quot;</td><td>10</td><td>&quot;New customer&quot;</td><td>6.367797</td><td>&quot;Low Spender&quot;</td><td>20.5</td><td>&quot;Non-frequent customer&quot;</td><td>&quot;Linda&quot;</td><td>&quot;Nguyen&quot;</td><td>&quot;Female&quot;</td><td>&quot;Alabama&quot;</td><td>31</td><td>&quot;2/17/2019&quot;</td><td>3</td><td>&quot;married&quot;</td><td>40423</td></tr><tr><td>2539329</td><td>1</td><td>1</td><td>2</td><td>8</td><td>null</td><td>26088</td><td>4</td><td>0</td><td>&quot;both&quot;</td><td>&quot;Aged White Cheddar Popcorn&quot;</td><td>23</td><td>19</td><td>4.7</td><td>&quot;both&quot;</td><td>&quot;Low-range product&quot;</td><td>&quot;Regularly busy&quot;</td><td>&quot;Regularly busy&quot;</td><td>&quot;Average orders&quot;</td><td>10</td><td>&quot;New customer&quot;</td><td>6.367797</td><td>&quot;Low Spender&quot;</td><td>20.5</td><td>&quot;Non-frequent customer&quot;</td><td>&quot;Linda&quot;</td><td>&quot;Nguyen&quot;</td><td>&quot;Female&quot;</td><td>&quot;Alabama&quot;</td><td>31</td><td>&quot;2/17/2019&quot;</td><td>3</td><td>&quot;married&quot;</td><td>40423</td></tr><tr><td>2539329</td><td>1</td><td>1</td><td>2</td><td>8</td><td>null</td><td>26405</td><td>5</td><td>0</td><td>&quot;both&quot;</td><td>&quot;XL Pick-A-Size Paper Towel Rol…</td><td>54</td><td>17</td><td>1.0</td><td>&quot;both&quot;</td><td>&quot;Low-range product&quot;</td><td>&quot;Regularly busy&quot;</td><td>&quot;Regularly busy&quot;</td><td>&quot;Average orders&quot;</td><td>10</td><td>&quot;New customer&quot;</td><td>6.367797</td><td>&quot;Low Spender&quot;</td><td>20.5</td><td>&quot;Non-frequent customer&quot;</td><td>&quot;Linda&quot;</td><td>&quot;Nguyen&quot;</td><td>&quot;Female&quot;</td><td>&quot;Alabama&quot;</td><td>31</td><td>&quot;2/17/2019&quot;</td><td>3</td><td>&quot;married&quot;</td><td>40423</td></tr></tbody></table></div>"
      ],
      "text/plain": [
       "shape: (5, 34)\n",
       "┌──────────┬─────────┬────────────┬────────────┬───┬────────────┬────────────┬────────────┬────────┐\n",
       "│ order_id ┆ user_id ┆ order_numb ┆ orders_day ┆ … ┆ date_joine ┆ n_dependan ┆ fam_status ┆ income │\n",
       "│ ---      ┆ ---     ┆ er         ┆ _of_week   ┆   ┆ d          ┆ ts         ┆ ---        ┆ ---    │\n",
       "│ i64      ┆ i64     ┆ ---        ┆ ---        ┆   ┆ ---        ┆ ---        ┆ str        ┆ i64    │\n",
       "│          ┆         ┆ i64        ┆ i64        ┆   ┆ str        ┆ i64        ┆            ┆        │\n",
       "╞══════════╪═════════╪════════════╪════════════╪═══╪════════════╪════════════╪════════════╪════════╡\n",
       "│ 2539329  ┆ 1       ┆ 1          ┆ 2          ┆ … ┆ 2/17/2019  ┆ 3          ┆ married    ┆ 40423  │\n",
       "│ 2539329  ┆ 1       ┆ 1          ┆ 2          ┆ … ┆ 2/17/2019  ┆ 3          ┆ married    ┆ 40423  │\n",
       "│ 2539329  ┆ 1       ┆ 1          ┆ 2          ┆ … ┆ 2/17/2019  ┆ 3          ┆ married    ┆ 40423  │\n",
       "│ 2539329  ┆ 1       ┆ 1          ┆ 2          ┆ … ┆ 2/17/2019  ┆ 3          ┆ married    ┆ 40423  │\n",
       "│ 2539329  ┆ 1       ┆ 1          ┆ 2          ┆ … ┆ 2/17/2019  ┆ 3          ┆ married    ┆ 40423  │\n",
       "└──────────┴─────────┴────────────┴────────────┴───┴────────────┴────────────┴────────────┴────────┘"
      ]
     },
     "execution_count": 14,
     "metadata": {},
     "output_type": "execute_result"
    }
   ],
   "source": [
    "ddf_merge.head()"
   ]
  },
  {
   "cell_type": "code",
   "execution_count": 15,
   "metadata": {
    "execution": {
     "iopub.execute_input": "2025-10-17T00:44:28.649785Z",
     "iopub.status.busy": "2025-10-17T00:44:28.648220Z",
     "iopub.status.idle": "2025-10-17T00:44:28.657838Z",
     "shell.execute_reply": "2025-10-17T00:44:28.656309Z",
     "shell.execute_reply.started": "2025-10-17T00:44:28.649711Z"
    }
   },
   "outputs": [
    {
     "data": {
      "text/plain": [
       "(32404859, 34)"
      ]
     },
     "execution_count": 15,
     "metadata": {},
     "output_type": "execute_result"
    }
   ],
   "source": [
    "ddf_merge.shape"
   ]
  },
  {
   "cell_type": "markdown",
   "metadata": {},
   "source": [
    "I've also noticed that with polars, the data types of each column show up. I'm not sure if in row one or what."
   ]
  },
  {
   "cell_type": "code",
   "execution_count": 17,
   "metadata": {
    "execution": {
     "iopub.execute_input": "2025-10-17T00:46:12.909723Z",
     "iopub.status.busy": "2025-10-17T00:46:12.909355Z",
     "iopub.status.idle": "2025-10-17T00:46:12.917785Z",
     "shell.execute_reply": "2025-10-17T00:46:12.915990Z",
     "shell.execute_reply.started": "2025-10-17T00:46:12.909701Z"
    }
   },
   "outputs": [
    {
     "data": {
      "text/plain": [
       "['order_id',\n",
       " 'user_id',\n",
       " 'order_number',\n",
       " 'orders_day_of_week',\n",
       " 'order_hour_of_day',\n",
       " 'days_since_prior_order',\n",
       " 'product_id',\n",
       " 'add_to_cart_order',\n",
       " 'reordered',\n",
       " '_merge',\n",
       " 'product_name',\n",
       " 'aisle_id',\n",
       " 'department_id',\n",
       " 'prices',\n",
       " 'match',\n",
       " 'price_range_loc',\n",
       " 'busiest_day',\n",
       " 'orders_affluence',\n",
       " 'busiest_period_of_day',\n",
       " 'max_order',\n",
       " 'loyalty_flag',\n",
       " 'user_avg_price',\n",
       " 'spending_flag',\n",
       " 'user_ord_freq',\n",
       " 'order_frequency_flag',\n",
       " 'first_name',\n",
       " 'surname',\n",
       " 'gender',\n",
       " 'state',\n",
       " 'age',\n",
       " 'date_joined',\n",
       " 'n_dependants',\n",
       " 'fam_status',\n",
       " 'income']"
      ]
     },
     "execution_count": 17,
     "metadata": {},
     "output_type": "execute_result"
    }
   ],
   "source": [
    "ddf_merge.columns"
   ]
  },
  {
   "cell_type": "code",
   "execution_count": null,
   "metadata": {
    "execution": {
     "iopub.status.busy": "2025-10-17T00:41:50.343933Z",
     "iopub.status.idle": "2025-10-17T00:41:50.344504Z",
     "shell.execute_reply": "2025-10-17T00:41:50.344343Z",
     "shell.execute_reply.started": "2025-10-17T00:41:50.344324Z"
    }
   },
   "outputs": [],
   "source": [
    "ddf_merge = ddf_merge.drop(['_merge', 'match'])\n",
    "# how to drop columns with polars; different from pandas; axis = 1 doesn't work here."
   ]
  },
  {
   "cell_type": "code",
   "execution_count": 16,
   "metadata": {
    "execution": {
     "iopub.execute_input": "2025-10-17T00:44:52.129616Z",
     "iopub.status.busy": "2025-10-17T00:44:52.129205Z",
     "iopub.status.idle": "2025-10-17T00:44:52.139090Z",
     "shell.execute_reply": "2025-10-17T00:44:52.137499Z",
     "shell.execute_reply.started": "2025-10-17T00:44:52.129592Z"
    }
   },
   "outputs": [
    {
     "data": {
      "text/plain": [
       "<bound method DataFrame.describe of shape: (32_404_859, 34)\n",
       "┌──────────┬─────────┬────────────┬────────────┬───┬────────────┬────────────┬────────────┬────────┐\n",
       "│ order_id ┆ user_id ┆ order_numb ┆ orders_day ┆ … ┆ date_joine ┆ n_dependan ┆ fam_status ┆ income │\n",
       "│ ---      ┆ ---     ┆ er         ┆ _of_week   ┆   ┆ d          ┆ ts         ┆ ---        ┆ ---    │\n",
       "│ i64      ┆ i64     ┆ ---        ┆ ---        ┆   ┆ ---        ┆ ---        ┆ str        ┆ i64    │\n",
       "│          ┆         ┆ i64        ┆ i64        ┆   ┆ str        ┆ i64        ┆            ┆        │\n",
       "╞══════════╪═════════╪════════════╪════════════╪═══╪════════════╪════════════╪════════════╪════════╡\n",
       "│ 2539329  ┆ 1       ┆ 1          ┆ 2          ┆ … ┆ 2/17/2019  ┆ 3          ┆ married    ┆ 40423  │\n",
       "│ 2539329  ┆ 1       ┆ 1          ┆ 2          ┆ … ┆ 2/17/2019  ┆ 3          ┆ married    ┆ 40423  │\n",
       "│ 2539329  ┆ 1       ┆ 1          ┆ 2          ┆ … ┆ 2/17/2019  ┆ 3          ┆ married    ┆ 40423  │\n",
       "│ 2539329  ┆ 1       ┆ 1          ┆ 2          ┆ … ┆ 2/17/2019  ┆ 3          ┆ married    ┆ 40423  │\n",
       "│ 2539329  ┆ 1       ┆ 1          ┆ 2          ┆ … ┆ 2/17/2019  ┆ 3          ┆ married    ┆ 40423  │\n",
       "│ …        ┆ …       ┆ …          ┆ …          ┆ … ┆ …          ┆ …          ┆ …          ┆ …      │\n",
       "│ 2977660  ┆ 206209  ┆ 13         ┆ 1          ┆ … ┆ 9/14/2019  ┆ 3          ┆ married    ┆ 137969 │\n",
       "│ 2977660  ┆ 206209  ┆ 13         ┆ 1          ┆ … ┆ 9/14/2019  ┆ 3          ┆ married    ┆ 137969 │\n",
       "│ 2977660  ┆ 206209  ┆ 13         ┆ 1          ┆ … ┆ 9/14/2019  ┆ 3          ┆ married    ┆ 137969 │\n",
       "│ 2977660  ┆ 206209  ┆ 13         ┆ 1          ┆ … ┆ 9/14/2019  ┆ 3          ┆ married    ┆ 137969 │\n",
       "│ 2977660  ┆ 206209  ┆ 13         ┆ 1          ┆ … ┆ 9/14/2019  ┆ 3          ┆ married    ┆ 137969 │\n",
       "└──────────┴─────────┴────────────┴────────────┴───┴────────────┴────────────┴────────────┴────────┘>"
      ]
     },
     "execution_count": 16,
     "metadata": {},
     "output_type": "execute_result"
    }
   ],
   "source": [
    "ddf_merge.describe"
   ]
  },
  {
   "cell_type": "markdown",
   "metadata": {},
   "source": [
    "With Polars it's not possible to add an indicator, so I cannot do the checkups I would usually do. \n",
    "32 columns, rock and rolling."
   ]
  },
  {
   "cell_type": "code",
   "execution_count": null,
   "metadata": {
    "execution": {
     "iopub.status.busy": "2025-10-17T00:41:50.346417Z",
     "iopub.status.idle": "2025-10-17T00:41:50.346761Z",
     "shell.execute_reply": "2025-10-17T00:41:50.346590Z",
     "shell.execute_reply.started": "2025-10-17T00:41:50.346573Z"
    }
   },
   "outputs": [],
   "source": [
    "# exporting merged file (polars)\n",
    "ddf_merge.write_parquet(\"/kaggle/working/ords_prods_custs_merge.parquet\")\n"
   ]
  }
 ],
 "metadata": {
  "colab": {
   "provenance": [],
   "runtime_attributes": {
    "runtime_version": "2025.07"
   }
  },
  "kaggle": {
   "accelerator": "none",
   "dataSources": [
    {
     "datasetId": 8426534,
     "sourceId": 13322362,
     "sourceType": "datasetVersion"
    }
   ],
   "dockerImageVersionId": 31153,
   "isGpuEnabled": false,
   "isInternetEnabled": false,
   "language": "python",
   "sourceType": "notebook"
  },
  "kernelspec": {
   "display_name": "Python [conda env:base] *",
   "language": "python",
   "name": "conda-base-py"
  },
  "language_info": {
   "codemirror_mode": {
    "name": "ipython",
    "version": 3
   },
   "file_extension": ".py",
   "mimetype": "text/x-python",
   "name": "python",
   "nbconvert_exporter": "python",
   "pygments_lexer": "ipython3",
   "version": "3.13.5"
  }
 },
 "nbformat": 4,
 "nbformat_minor": 4
}
