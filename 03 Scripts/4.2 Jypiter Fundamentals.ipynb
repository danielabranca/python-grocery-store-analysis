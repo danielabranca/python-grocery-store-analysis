{
 "cells": [
  {
   "cell_type": "markdown",
   "id": "60910d86-d381-4a88-b5a7-838a3269cf73",
   "metadata": {},
   "source": [
    "# 4.2 Python Fundamentals"
   ]
  },
  {
   "cell_type": "markdown",
   "id": "4a0ce5a7-8bfc-4acf-b82c-366f4814bc90",
   "metadata": {},
   "source": [
    "## Importing libraries"
   ]
  },
  {
   "cell_type": "code",
   "execution_count": 1,
   "id": "8479e16d-05e2-45bd-a05a-c0c2be7a5b58",
   "metadata": {},
   "outputs": [],
   "source": [
    "# Import libraries\n",
    "import pandas as pd\n",
    "import numpy as np\n",
    "import os"
   ]
  },
  {
   "cell_type": "code",
   "execution_count": null,
   "id": "9e79f685-8ae4-49c6-8f68-f5db04ecdfd4",
   "metadata": {},
   "outputs": [],
   "source": []
  },
  {
   "cell_type": "code",
   "execution_count": 2,
   "id": "e0c93298-3aed-4f9d-aaa0-25a97a3edef2",
   "metadata": {},
   "outputs": [],
   "source": [
    "x=25"
   ]
  },
  {
   "cell_type": "code",
   "execution_count": 3,
   "id": "a3c6a239-431f-4515-9df8-740f50d54b35",
   "metadata": {},
   "outputs": [],
   "source": [
    "y=50"
   ]
  },
  {
   "cell_type": "code",
   "execution_count": 4,
   "id": "da84bad0-7a7e-44cc-9e02-6ab402d825c1",
   "metadata": {},
   "outputs": [],
   "source": [
    "z=5"
   ]
  },
  {
   "cell_type": "code",
   "execution_count": 8,
   "id": "05cd2927-65f0-4d4e-a9fa-c45a960e754b",
   "metadata": {},
   "outputs": [
    {
     "data": {
      "text/plain": [
       "100"
      ]
     },
     "execution_count": 8,
     "metadata": {},
     "output_type": "execute_result"
    }
   ],
   "source": [
    "2*x + y"
   ]
  },
  {
   "cell_type": "code",
   "execution_count": 9,
   "id": "4ba84bf3-e707-47ea-8c44-79ad5b4b0dc6",
   "metadata": {},
   "outputs": [
    {
     "data": {
      "text/plain": [
       "100"
      ]
     },
     "execution_count": 9,
     "metadata": {},
     "output_type": "execute_result"
    }
   ],
   "source": [
    "2*y"
   ]
  },
  {
   "cell_type": "code",
   "execution_count": 10,
   "id": "89634f07-5dee-4416-ad65-8ebe58d67d98",
   "metadata": {},
   "outputs": [
    {
     "data": {
      "text/plain": [
       "100"
      ]
     },
     "execution_count": 10,
     "metadata": {},
     "output_type": "execute_result"
    }
   ],
   "source": [
    "5*x - 5*z"
   ]
  },
  {
   "cell_type": "code",
   "execution_count": 11,
   "id": "494928d1-ca54-477f-acc4-5d80cd3f5586",
   "metadata": {},
   "outputs": [],
   "source": [
    "n = 3.141521"
   ]
  },
  {
   "cell_type": "code",
   "execution_count": 12,
   "id": "75d9a9be-4b8b-4061-a824-026385465039",
   "metadata": {},
   "outputs": [],
   "source": [
    "i = 6.666667"
   ]
  },
  {
   "cell_type": "code",
   "execution_count": 13,
   "id": "1c9e8194-a1ac-4b45-96ba-1189bf18c37e",
   "metadata": {},
   "outputs": [
    {
     "data": {
      "text/plain": [
       "2.122114415278459"
      ]
     },
     "execution_count": 13,
     "metadata": {},
     "output_type": "execute_result"
    }
   ],
   "source": [
    "i/n"
   ]
  },
  {
   "cell_type": "code",
   "execution_count": 14,
   "id": "891e81f2-d007-4822-b775-367c48fb8c66",
   "metadata": {},
   "outputs": [],
   "source": [
    "a = 'My cat Maggie '"
   ]
  },
  {
   "cell_type": "code",
   "execution_count": 15,
   "id": "7127f820-65de-4c99-816b-aec3e1f6321f",
   "metadata": {},
   "outputs": [],
   "source": [
    "b = 'is the cutest ball of fur and whiskers!'"
   ]
  },
  {
   "cell_type": "code",
   "execution_count": 16,
   "id": "57f8ba3c-f191-4162-a051-67191a4081c3",
   "metadata": {},
   "outputs": [
    {
     "data": {
      "text/plain": [
       "'My cat Maggie is the cutest ball of fur and whiskers!'"
      ]
     },
     "execution_count": 16,
     "metadata": {},
     "output_type": "execute_result"
    }
   ],
   "source": [
    "a + b"
   ]
  },
  {
   "cell_type": "code",
   "execution_count": 23,
   "id": "9c43f307-f7a9-4c88-84ea-ae0090a85144",
   "metadata": {},
   "outputs": [],
   "source": [
    "c = 'she is a great Zen Teacher.'"
   ]
  },
  {
   "cell_type": "code",
   "execution_count": 18,
   "id": "1d21606f-91e9-4442-950a-f2a7d7e193fa",
   "metadata": {},
   "outputs": [],
   "source": [
    "d = ' She has long white whiskers as a Japanese Old Sage. And '"
   ]
  },
  {
   "cell_type": "code",
   "execution_count": 24,
   "id": "29b54484-56bc-4207-972b-a3e845c69d52",
   "metadata": {},
   "outputs": [
    {
     "data": {
      "text/plain": [
       "'My cat Maggie is the cutest ball of fur and whiskers!She has long white whiskers as a Japanese Old Sage. And she is a great Zen Teacher.'"
      ]
     },
     "execution_count": 24,
     "metadata": {},
     "output_type": "execute_result"
    }
   ],
   "source": [
    "a + b + d + c"
   ]
  },
  {
   "cell_type": "markdown",
   "id": "047046f8-bb58-44c8-bdef-4b6428622b94",
   "metadata": {},
   "source": [
    "## Bonus Task"
   ]
  },
  {
   "cell_type": "code",
   "execution_count": 25,
   "id": "6a77ba62-2191-48ed-8cf0-8a91b3786dc0",
   "metadata": {},
   "outputs": [
    {
     "data": {
      "text/plain": [
       "'My cat Maggie is the cutest ball of fur and whiskers!She has long white whiskers as a Japanese Old Sage. And she is a great Zen Teacher.My cat Maggie is the cutest ball of fur and whiskers!She has long white whiskers as a Japanese Old Sage. And she is a great Zen Teacher.My cat Maggie is the cutest ball of fur and whiskers!She has long white whiskers as a Japanese Old Sage. And she is a great Zen Teacher.My cat Maggie is the cutest ball of fur and whiskers!She has long white whiskers as a Japanese Old Sage. And she is a great Zen Teacher.My cat Maggie is the cutest ball of fur and whiskers!She has long white whiskers as a Japanese Old Sage. And she is a great Zen Teacher.My cat Maggie is the cutest ball of fur and whiskers!She has long white whiskers as a Japanese Old Sage. And she is a great Zen Teacher.My cat Maggie is the cutest ball of fur and whiskers!She has long white whiskers as a Japanese Old Sage. And she is a great Zen Teacher.My cat Maggie is the cutest ball of fur and whiskers!She has long white whiskers as a Japanese Old Sage. And she is a great Zen Teacher.My cat Maggie is the cutest ball of fur and whiskers!She has long white whiskers as a Japanese Old Sage. And she is a great Zen Teacher.My cat Maggie is the cutest ball of fur and whiskers!She has long white whiskers as a Japanese Old Sage. And she is a great Zen Teacher.My cat Maggie is the cutest ball of fur and whiskers!She has long white whiskers as a Japanese Old Sage. And she is a great Zen Teacher.My cat Maggie is the cutest ball of fur and whiskers!She has long white whiskers as a Japanese Old Sage. And she is a great Zen Teacher.My cat Maggie is the cutest ball of fur and whiskers!She has long white whiskers as a Japanese Old Sage. And she is a great Zen Teacher.My cat Maggie is the cutest ball of fur and whiskers!She has long white whiskers as a Japanese Old Sage. And she is a great Zen Teacher.My cat Maggie is the cutest ball of fur and whiskers!She has long white whiskers as a Japanese Old Sage. And she is a great Zen Teacher.My cat Maggie is the cutest ball of fur and whiskers!She has long white whiskers as a Japanese Old Sage. And she is a great Zen Teacher.My cat Maggie is the cutest ball of fur and whiskers!She has long white whiskers as a Japanese Old Sage. And she is a great Zen Teacher.My cat Maggie is the cutest ball of fur and whiskers!She has long white whiskers as a Japanese Old Sage. And she is a great Zen Teacher.My cat Maggie is the cutest ball of fur and whiskers!She has long white whiskers as a Japanese Old Sage. And she is a great Zen Teacher.My cat Maggie is the cutest ball of fur and whiskers!She has long white whiskers as a Japanese Old Sage. And she is a great Zen Teacher.My cat Maggie is the cutest ball of fur and whiskers!She has long white whiskers as a Japanese Old Sage. And she is a great Zen Teacher.My cat Maggie is the cutest ball of fur and whiskers!She has long white whiskers as a Japanese Old Sage. And she is a great Zen Teacher.My cat Maggie is the cutest ball of fur and whiskers!She has long white whiskers as a Japanese Old Sage. And she is a great Zen Teacher.My cat Maggie is the cutest ball of fur and whiskers!She has long white whiskers as a Japanese Old Sage. And she is a great Zen Teacher.My cat Maggie is the cutest ball of fur and whiskers!She has long white whiskers as a Japanese Old Sage. And she is a great Zen Teacher.My cat Maggie is the cutest ball of fur and whiskers!She has long white whiskers as a Japanese Old Sage. And she is a great Zen Teacher.My cat Maggie is the cutest ball of fur and whiskers!She has long white whiskers as a Japanese Old Sage. And she is a great Zen Teacher.My cat Maggie is the cutest ball of fur and whiskers!She has long white whiskers as a Japanese Old Sage. And she is a great Zen Teacher.My cat Maggie is the cutest ball of fur and whiskers!She has long white whiskers as a Japanese Old Sage. And she is a great Zen Teacher.My cat Maggie is the cutest ball of fur and whiskers!She has long white whiskers as a Japanese Old Sage. And she is a great Zen Teacher.My cat Maggie is the cutest ball of fur and whiskers!She has long white whiskers as a Japanese Old Sage. And she is a great Zen Teacher.My cat Maggie is the cutest ball of fur and whiskers!She has long white whiskers as a Japanese Old Sage. And she is a great Zen Teacher.My cat Maggie is the cutest ball of fur and whiskers!She has long white whiskers as a Japanese Old Sage. And she is a great Zen Teacher.My cat Maggie is the cutest ball of fur and whiskers!She has long white whiskers as a Japanese Old Sage. And she is a great Zen Teacher.My cat Maggie is the cutest ball of fur and whiskers!She has long white whiskers as a Japanese Old Sage. And she is a great Zen Teacher.My cat Maggie is the cutest ball of fur and whiskers!She has long white whiskers as a Japanese Old Sage. And she is a great Zen Teacher.My cat Maggie is the cutest ball of fur and whiskers!She has long white whiskers as a Japanese Old Sage. And she is a great Zen Teacher.My cat Maggie is the cutest ball of fur and whiskers!She has long white whiskers as a Japanese Old Sage. And she is a great Zen Teacher.My cat Maggie is the cutest ball of fur and whiskers!She has long white whiskers as a Japanese Old Sage. And she is a great Zen Teacher.My cat Maggie is the cutest ball of fur and whiskers!She has long white whiskers as a Japanese Old Sage. And she is a great Zen Teacher.My cat Maggie is the cutest ball of fur and whiskers!She has long white whiskers as a Japanese Old Sage. And she is a great Zen Teacher.My cat Maggie is the cutest ball of fur and whiskers!She has long white whiskers as a Japanese Old Sage. And she is a great Zen Teacher.My cat Maggie is the cutest ball of fur and whiskers!She has long white whiskers as a Japanese Old Sage. And she is a great Zen Teacher.My cat Maggie is the cutest ball of fur and whiskers!She has long white whiskers as a Japanese Old Sage. And she is a great Zen Teacher.My cat Maggie is the cutest ball of fur and whiskers!She has long white whiskers as a Japanese Old Sage. And she is a great Zen Teacher.My cat Maggie is the cutest ball of fur and whiskers!She has long white whiskers as a Japanese Old Sage. And she is a great Zen Teacher.My cat Maggie is the cutest ball of fur and whiskers!She has long white whiskers as a Japanese Old Sage. And she is a great Zen Teacher.My cat Maggie is the cutest ball of fur and whiskers!She has long white whiskers as a Japanese Old Sage. And she is a great Zen Teacher.My cat Maggie is the cutest ball of fur and whiskers!She has long white whiskers as a Japanese Old Sage. And she is a great Zen Teacher.My cat Maggie is the cutest ball of fur and whiskers!She has long white whiskers as a Japanese Old Sage. And she is a great Zen Teacher.My cat Maggie is the cutest ball of fur and whiskers!She has long white whiskers as a Japanese Old Sage. And she is a great Zen Teacher.My cat Maggie is the cutest ball of fur and whiskers!She has long white whiskers as a Japanese Old Sage. And she is a great Zen Teacher.My cat Maggie is the cutest ball of fur and whiskers!She has long white whiskers as a Japanese Old Sage. And she is a great Zen Teacher.My cat Maggie is the cutest ball of fur and whiskers!She has long white whiskers as a Japanese Old Sage. And she is a great Zen Teacher.My cat Maggie is the cutest ball of fur and whiskers!She has long white whiskers as a Japanese Old Sage. And she is a great Zen Teacher.My cat Maggie is the cutest ball of fur and whiskers!She has long white whiskers as a Japanese Old Sage. And she is a great Zen Teacher.My cat Maggie is the cutest ball of fur and whiskers!She has long white whiskers as a Japanese Old Sage. And she is a great Zen Teacher.My cat Maggie is the cutest ball of fur and whiskers!She has long white whiskers as a Japanese Old Sage. And she is a great Zen Teacher.My cat Maggie is the cutest ball of fur and whiskers!She has long white whiskers as a Japanese Old Sage. And she is a great Zen Teacher.My cat Maggie is the cutest ball of fur and whiskers!She has long white whiskers as a Japanese Old Sage. And she is a great Zen Teacher.My cat Maggie is the cutest ball of fur and whiskers!She has long white whiskers as a Japanese Old Sage. And she is a great Zen Teacher.My cat Maggie is the cutest ball of fur and whiskers!She has long white whiskers as a Japanese Old Sage. And she is a great Zen Teacher.My cat Maggie is the cutest ball of fur and whiskers!She has long white whiskers as a Japanese Old Sage. And she is a great Zen Teacher.My cat Maggie is the cutest ball of fur and whiskers!She has long white whiskers as a Japanese Old Sage. And she is a great Zen Teacher.My cat Maggie is the cutest ball of fur and whiskers!She has long white whiskers as a Japanese Old Sage. And she is a great Zen Teacher.My cat Maggie is the cutest ball of fur and whiskers!She has long white whiskers as a Japanese Old Sage. And she is a great Zen Teacher.My cat Maggie is the cutest ball of fur and whiskers!She has long white whiskers as a Japanese Old Sage. And she is a great Zen Teacher.My cat Maggie is the cutest ball of fur and whiskers!She has long white whiskers as a Japanese Old Sage. And she is a great Zen Teacher.My cat Maggie is the cutest ball of fur and whiskers!She has long white whiskers as a Japanese Old Sage. And she is a great Zen Teacher.My cat Maggie is the cutest ball of fur and whiskers!She has long white whiskers as a Japanese Old Sage. And she is a great Zen Teacher.My cat Maggie is the cutest ball of fur and whiskers!She has long white whiskers as a Japanese Old Sage. And she is a great Zen Teacher.My cat Maggie is the cutest ball of fur and whiskers!She has long white whiskers as a Japanese Old Sage. And she is a great Zen Teacher.My cat Maggie is the cutest ball of fur and whiskers!She has long white whiskers as a Japanese Old Sage. And she is a great Zen Teacher.My cat Maggie is the cutest ball of fur and whiskers!She has long white whiskers as a Japanese Old Sage. And she is a great Zen Teacher.My cat Maggie is the cutest ball of fur and whiskers!She has long white whiskers as a Japanese Old Sage. And she is a great Zen Teacher.My cat Maggie is the cutest ball of fur and whiskers!She has long white whiskers as a Japanese Old Sage. And she is a great Zen Teacher.My cat Maggie is the cutest ball of fur and whiskers!She has long white whiskers as a Japanese Old Sage. And she is a great Zen Teacher.My cat Maggie is the cutest ball of fur and whiskers!She has long white whiskers as a Japanese Old Sage. And she is a great Zen Teacher.My cat Maggie is the cutest ball of fur and whiskers!She has long white whiskers as a Japanese Old Sage. And she is a great Zen Teacher.My cat Maggie is the cutest ball of fur and whiskers!She has long white whiskers as a Japanese Old Sage. And she is a great Zen Teacher.My cat Maggie is the cutest ball of fur and whiskers!She has long white whiskers as a Japanese Old Sage. And she is a great Zen Teacher.My cat Maggie is the cutest ball of fur and whiskers!She has long white whiskers as a Japanese Old Sage. And she is a great Zen Teacher.My cat Maggie is the cutest ball of fur and whiskers!She has long white whiskers as a Japanese Old Sage. And she is a great Zen Teacher.My cat Maggie is the cutest ball of fur and whiskers!She has long white whiskers as a Japanese Old Sage. And she is a great Zen Teacher.My cat Maggie is the cutest ball of fur and whiskers!She has long white whiskers as a Japanese Old Sage. And she is a great Zen Teacher.My cat Maggie is the cutest ball of fur and whiskers!She has long white whiskers as a Japanese Old Sage. And she is a great Zen Teacher.My cat Maggie is the cutest ball of fur and whiskers!She has long white whiskers as a Japanese Old Sage. And she is a great Zen Teacher.My cat Maggie is the cutest ball of fur and whiskers!She has long white whiskers as a Japanese Old Sage. And she is a great Zen Teacher.My cat Maggie is the cutest ball of fur and whiskers!She has long white whiskers as a Japanese Old Sage. And she is a great Zen Teacher.My cat Maggie is the cutest ball of fur and whiskers!She has long white whiskers as a Japanese Old Sage. And she is a great Zen Teacher.My cat Maggie is the cutest ball of fur and whiskers!She has long white whiskers as a Japanese Old Sage. And she is a great Zen Teacher.My cat Maggie is the cutest ball of fur and whiskers!She has long white whiskers as a Japanese Old Sage. And she is a great Zen Teacher.My cat Maggie is the cutest ball of fur and whiskers!She has long white whiskers as a Japanese Old Sage. And she is a great Zen Teacher.My cat Maggie is the cutest ball of fur and whiskers!She has long white whiskers as a Japanese Old Sage. And she is a great Zen Teacher.My cat Maggie is the cutest ball of fur and whiskers!She has long white whiskers as a Japanese Old Sage. And she is a great Zen Teacher.My cat Maggie is the cutest ball of fur and whiskers!She has long white whiskers as a Japanese Old Sage. And she is a great Zen Teacher.My cat Maggie is the cutest ball of fur and whiskers!She has long white whiskers as a Japanese Old Sage. And she is a great Zen Teacher.My cat Maggie is the cutest ball of fur and whiskers!She has long white whiskers as a Japanese Old Sage. And she is a great Zen Teacher.My cat Maggie is the cutest ball of fur and whiskers!She has long white whiskers as a Japanese Old Sage. And she is a great Zen Teacher.My cat Maggie is the cutest ball of fur and whiskers!She has long white whiskers as a Japanese Old Sage. And she is a great Zen Teacher.'"
      ]
     },
     "execution_count": 25,
     "metadata": {},
     "output_type": "execute_result"
    }
   ],
   "source": [
    "(a + b + d + c)*100"
   ]
  },
  {
   "cell_type": "code",
   "execution_count": null,
   "id": "1f7d55b2-4c41-460d-b7ee-4b49d23864e4",
   "metadata": {},
   "outputs": [],
   "source": []
  }
 ],
 "metadata": {
  "kernelspec": {
   "display_name": "Python [conda env:base] *",
   "language": "python",
   "name": "conda-base-py"
  },
  "language_info": {
   "codemirror_mode": {
    "name": "ipython",
    "version": 3
   },
   "file_extension": ".py",
   "mimetype": "text/x-python",
   "name": "python",
   "nbconvert_exporter": "python",
   "pygments_lexer": "ipython3",
   "version": "3.13.5"
  }
 },
 "nbformat": 4,
 "nbformat_minor": 5
}
