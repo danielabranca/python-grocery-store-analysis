{
 "cells": [
  {
   "cell_type": "markdown",
   "id": "80eb0de9-0615-4aa3-b2ea-0db4bf26f63f",
   "metadata": {},
   "source": [
    "## 01. Import Libraries"
   ]
  },
  {
   "cell_type": "code",
   "execution_count": 1,
   "id": "88efdec1-e51d-4125-92c1-e21430c4156b",
   "metadata": {},
   "outputs": [],
   "source": [
    "# import libraries\n",
    "import pandas as pd\n",
    "import numpy as np\n",
    "import os"
   ]
  },
  {
   "cell_type": "code",
   "execution_count": 2,
   "id": "80d0b502-1bb8-417f-8610-db69e0795ef2",
   "metadata": {},
   "outputs": [],
   "source": [
    "# shortcuts for importing dataframes\n",
    "path = r\"C:\\Users\\Asus\\Documents\\DA CareerFoundry\\Part II - Data Immersion\\Python - Anaconda\\August 2025 Instacart Basket Analysis\\02 Data\""
   ]
  },
  {
   "cell_type": "code",
   "execution_count": 3,
   "id": "2c57b491-11bd-4459-b727-daa2932db24a",
   "metadata": {},
   "outputs": [],
   "source": [
    "# import products.csv\n",
    "df_prods = pd.read_csv(os.path.join(path, 'Original Data', 'products.csv'), index_col = False)"
   ]
  },
  {
   "cell_type": "code",
   "execution_count": 4,
   "id": "50bbf43c-9fe3-4d05-882f-8ae8b5d2779a",
   "metadata": {},
   "outputs": [],
   "source": [
    "# import orders_wrangled.csv\n",
    "df_ords = pd.read_csv(os.path.join(path, 'Prepared Data', 'orders_wrangled.csv'), index_col = False)"
   ]
  },
  {
   "cell_type": "code",
   "execution_count": 5,
   "id": "b8290342-80df-4e00-b918-040cf5d6b833",
   "metadata": {},
   "outputs": [
    {
     "name": "stdout",
     "output_type": "stream",
     "text": [
      "<class 'pandas.core.frame.DataFrame'>\n",
      "RangeIndex: 49693 entries, 0 to 49692\n",
      "Data columns (total 5 columns):\n",
      " #   Column         Non-Null Count  Dtype  \n",
      "---  ------         --------------  -----  \n",
      " 0   product_id     49693 non-null  int64  \n",
      " 1   product_name   49677 non-null  object \n",
      " 2   aisle_id       49693 non-null  int64  \n",
      " 3   department_id  49693 non-null  int64  \n",
      " 4   prices         49693 non-null  float64\n",
      "dtypes: float64(1), int64(3), object(1)\n",
      "memory usage: 1.9+ MB\n"
     ]
    }
   ],
   "source": [
    "df_prods.info()"
   ]
  },
  {
   "cell_type": "code",
   "execution_count": 6,
   "id": "8b31bdb9-5330-44a4-84cd-7e1de125ca35",
   "metadata": {},
   "outputs": [
    {
     "name": "stdout",
     "output_type": "stream",
     "text": [
      "<class 'pandas.core.frame.DataFrame'>\n",
      "RangeIndex: 3421083 entries, 0 to 3421082\n",
      "Data columns (total 7 columns):\n",
      " #   Column                  Dtype  \n",
      "---  ------                  -----  \n",
      " 0   Unnamed: 0              int64  \n",
      " 1   order_id                int64  \n",
      " 2   user_id                 int64  \n",
      " 3   order_number            int64  \n",
      " 4   orders_day_of_week      int64  \n",
      " 5   order_hour_of_day       int64  \n",
      " 6   days_since_prior_order  float64\n",
      "dtypes: float64(1), int64(6)\n",
      "memory usage: 182.7 MB\n"
     ]
    }
   ],
   "source": [
    "df_ords.info()"
   ]
  },
  {
   "cell_type": "code",
   "execution_count": null,
   "id": "1fa53d42-cfb1-4d67-9596-70026f880eec",
   "metadata": {},
   "outputs": [],
   "source": []
  }
 ],
 "metadata": {
  "kernelspec": {
   "display_name": "Python [conda env:base] *",
   "language": "python",
   "name": "conda-base-py"
  },
  "language_info": {
   "codemirror_mode": {
    "name": "ipython",
    "version": 3
   },
   "file_extension": ".py",
   "mimetype": "text/x-python",
   "name": "python",
   "nbconvert_exporter": "python",
   "pygments_lexer": "ipython3",
   "version": "3.13.5"
  }
 },
 "nbformat": 4,
 "nbformat_minor": 5
}
