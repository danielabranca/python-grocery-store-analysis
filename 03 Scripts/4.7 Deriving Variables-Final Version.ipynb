{
 "cells": [
  {
   "cell_type": "markdown",
   "id": "85f24160-2542-4fa9-80da-d0cb533b913a",
   "metadata": {},
   "source": [
    "# 4.7 Deriving New Variables"
   ]
  },
  {
   "cell_type": "markdown",
   "id": "b861ea5e-b501-4a2a-b7cc-185f089a4750",
   "metadata": {},
   "source": [
    "### 01. Import libraries and files"
   ]
  },
  {
   "cell_type": "code",
   "execution_count": 1,
   "id": "12989d86-0c2e-41a0-a937-42040eda6bb6",
   "metadata": {},
   "outputs": [],
   "source": [
    "# Import libraries\n",
    "\n",
    "import pandas as pd\n",
    "import numpy as np\n",
    "import os"
   ]
  },
  {
   "cell_type": "code",
   "execution_count": 2,
   "id": "21d25403-ed9a-4900-bafd-84d1917cf8d0",
   "metadata": {},
   "outputs": [],
   "source": [
    "# shortcuts for importing dataframes\n",
    "path = r\"C:\\Users\\Asus\\Documents\\DA CareerFoundry\\Part II - Data Immersion\\Python - Anaconda\\August 2025 Instacart Basket Analysis\\02 Data\""
   ]
  },
  {
   "cell_type": "code",
   "execution_count": 3,
   "id": "8eb93523-f495-4347-8f8f-b660d792aeba",
   "metadata": {
    "scrolled": true
   },
   "outputs": [],
   "source": [
    "#importing pkl file (note that this formula is different from the csv):\n",
    "ords_prods_merge = pd.read_pickle(rf'{path}\\Prepared Data\\ords_prods_merge.pkl')"
   ]
  },
  {
   "cell_type": "markdown",
   "id": "c4395957-26cb-441d-872b-03ef464854e3",
   "metadata": {},
   "source": [
    "### 02. Defining Conditions with if-else statements"
   ]
  },
  {
   "cell_type": "code",
   "execution_count": 9,
   "id": "6e27f134-dea4-4dc5-9abc-f56a528637b8",
   "metadata": {},
   "outputs": [],
   "source": [
    "# creating a sub set for the first million rows:\n",
    "# .copy() prevents me from having warnings in the future\n",
    "df = ords_prods_merge[:1000000].copy()"
   ]
  },
  {
   "cell_type": "code",
   "execution_count": 10,
   "id": "24ab6ab3-bdd2-4a6d-98f6-3880a474f841",
   "metadata": {},
   "outputs": [
    {
     "data": {
      "text/html": [
       "<div>\n",
       "<style scoped>\n",
       "    .dataframe tbody tr th:only-of-type {\n",
       "        vertical-align: middle;\n",
       "    }\n",
       "\n",
       "    .dataframe tbody tr th {\n",
       "        vertical-align: top;\n",
       "    }\n",
       "\n",
       "    .dataframe thead th {\n",
       "        text-align: right;\n",
       "    }\n",
       "</style>\n",
       "<table border=\"1\" class=\"dataframe\">\n",
       "  <thead>\n",
       "    <tr style=\"text-align: right;\">\n",
       "      <th></th>\n",
       "      <th>order_id</th>\n",
       "      <th>user_id</th>\n",
       "      <th>order_number</th>\n",
       "      <th>orders_day_of_week</th>\n",
       "      <th>order_hour_of_day</th>\n",
       "      <th>days_since_prior_order</th>\n",
       "      <th>product_id</th>\n",
       "      <th>add_to_cart_order</th>\n",
       "      <th>reordered</th>\n",
       "      <th>_merge</th>\n",
       "      <th>product_name</th>\n",
       "      <th>aisle_id</th>\n",
       "      <th>department_id</th>\n",
       "      <th>prices</th>\n",
       "      <th>match</th>\n",
       "    </tr>\n",
       "  </thead>\n",
       "  <tbody>\n",
       "    <tr>\n",
       "      <th>0</th>\n",
       "      <td>2539329</td>\n",
       "      <td>1</td>\n",
       "      <td>1</td>\n",
       "      <td>2</td>\n",
       "      <td>8</td>\n",
       "      <td>NaN</td>\n",
       "      <td>196</td>\n",
       "      <td>1</td>\n",
       "      <td>0</td>\n",
       "      <td>both</td>\n",
       "      <td>Soda</td>\n",
       "      <td>77</td>\n",
       "      <td>7</td>\n",
       "      <td>9.0</td>\n",
       "      <td>both</td>\n",
       "    </tr>\n",
       "    <tr>\n",
       "      <th>1</th>\n",
       "      <td>2539329</td>\n",
       "      <td>1</td>\n",
       "      <td>1</td>\n",
       "      <td>2</td>\n",
       "      <td>8</td>\n",
       "      <td>NaN</td>\n",
       "      <td>14084</td>\n",
       "      <td>2</td>\n",
       "      <td>0</td>\n",
       "      <td>both</td>\n",
       "      <td>Organic Unsweetened Vanilla Almond Milk</td>\n",
       "      <td>91</td>\n",
       "      <td>16</td>\n",
       "      <td>12.5</td>\n",
       "      <td>both</td>\n",
       "    </tr>\n",
       "    <tr>\n",
       "      <th>2</th>\n",
       "      <td>2539329</td>\n",
       "      <td>1</td>\n",
       "      <td>1</td>\n",
       "      <td>2</td>\n",
       "      <td>8</td>\n",
       "      <td>NaN</td>\n",
       "      <td>12427</td>\n",
       "      <td>3</td>\n",
       "      <td>0</td>\n",
       "      <td>both</td>\n",
       "      <td>Original Beef Jerky</td>\n",
       "      <td>23</td>\n",
       "      <td>19</td>\n",
       "      <td>4.4</td>\n",
       "      <td>both</td>\n",
       "    </tr>\n",
       "    <tr>\n",
       "      <th>3</th>\n",
       "      <td>2539329</td>\n",
       "      <td>1</td>\n",
       "      <td>1</td>\n",
       "      <td>2</td>\n",
       "      <td>8</td>\n",
       "      <td>NaN</td>\n",
       "      <td>26088</td>\n",
       "      <td>4</td>\n",
       "      <td>0</td>\n",
       "      <td>both</td>\n",
       "      <td>Aged White Cheddar Popcorn</td>\n",
       "      <td>23</td>\n",
       "      <td>19</td>\n",
       "      <td>4.7</td>\n",
       "      <td>both</td>\n",
       "    </tr>\n",
       "    <tr>\n",
       "      <th>4</th>\n",
       "      <td>2539329</td>\n",
       "      <td>1</td>\n",
       "      <td>1</td>\n",
       "      <td>2</td>\n",
       "      <td>8</td>\n",
       "      <td>NaN</td>\n",
       "      <td>26405</td>\n",
       "      <td>5</td>\n",
       "      <td>0</td>\n",
       "      <td>both</td>\n",
       "      <td>XL Pick-A-Size Paper Towel Rolls</td>\n",
       "      <td>54</td>\n",
       "      <td>17</td>\n",
       "      <td>1.0</td>\n",
       "      <td>both</td>\n",
       "    </tr>\n",
       "  </tbody>\n",
       "</table>\n",
       "</div>"
      ],
      "text/plain": [
       "   order_id  user_id  order_number  orders_day_of_week  order_hour_of_day  \\\n",
       "0   2539329        1             1                   2                  8   \n",
       "1   2539329        1             1                   2                  8   \n",
       "2   2539329        1             1                   2                  8   \n",
       "3   2539329        1             1                   2                  8   \n",
       "4   2539329        1             1                   2                  8   \n",
       "\n",
       "   days_since_prior_order  product_id  add_to_cart_order  reordered _merge  \\\n",
       "0                     NaN         196                  1          0   both   \n",
       "1                     NaN       14084                  2          0   both   \n",
       "2                     NaN       12427                  3          0   both   \n",
       "3                     NaN       26088                  4          0   both   \n",
       "4                     NaN       26405                  5          0   both   \n",
       "\n",
       "                              product_name  aisle_id  department_id  prices  \\\n",
       "0                                     Soda        77              7     9.0   \n",
       "1  Organic Unsweetened Vanilla Almond Milk        91             16    12.5   \n",
       "2                      Original Beef Jerky        23             19     4.4   \n",
       "3               Aged White Cheddar Popcorn        23             19     4.7   \n",
       "4         XL Pick-A-Size Paper Towel Rolls        54             17     1.0   \n",
       "\n",
       "  match  \n",
       "0  both  \n",
       "1  both  \n",
       "2  both  \n",
       "3  both  \n",
       "4  both  "
      ]
     },
     "execution_count": 10,
     "metadata": {},
     "output_type": "execute_result"
    }
   ],
   "source": [
    "df.head()"
   ]
  },
  {
   "cell_type": "code",
   "execution_count": 11,
   "id": "4180740a-4a0a-41f5-b9fa-698769e8077b",
   "metadata": {},
   "outputs": [
    {
     "data": {
      "text/plain": [
       "(1000000, 15)"
      ]
     },
     "execution_count": 11,
     "metadata": {},
     "output_type": "execute_result"
    }
   ],
   "source": [
    "df.shape"
   ]
  },
  {
   "cell_type": "code",
   "execution_count": 37,
   "id": "2b7aec11-a3d0-4425-a27a-fa111d12038a",
   "metadata": {},
   "outputs": [],
   "source": [
    "# defining conditions with if-else for the new function:\n",
    "\n",
    "def price_label(row):\n",
    "\n",
    "  if row['prices'] <= 5:\n",
    "    return 'Low-range product'\n",
    "  elif (row['prices'] > 5) and (row['prices'] <= 15):\n",
    "    return 'Mid-range product'\n",
    "  elif row['prices'] > 15:\n",
    "    return 'High range'\n",
    "  else: return 'Not enough data'"
   ]
  },
  {
   "cell_type": "code",
   "execution_count": 13,
   "id": "e0b18ece-9fc1-41b9-bcab-82236ab71118",
   "metadata": {},
   "outputs": [],
   "source": [
    "# df['price_range'] defines a new column within the dataframe (df).\n",
    "# axis 1 stands for rows, while axis 0 would stand for columns.\n",
    "# apply(price_label) is a function that commands the price_label function to be applied for every observation.\n",
    "# let's do it:\n",
    "\n",
    "df['price_range'] = df.apply(price_label, axis= 1 )"
   ]
  },
  {
   "cell_type": "code",
   "execution_count": 14,
   "id": "5b151c60-d094-476f-aff1-28ec5522437d",
   "metadata": {},
   "outputs": [
    {
     "data": {
      "text/plain": [
       "price_range\n",
       "Mid-range product    673183\n",
       "Low-range product    314392\n",
       "High range            12425\n",
       "Name: count, dtype: int64"
      ]
     },
     "execution_count": 14,
     "metadata": {},
     "output_type": "execute_result"
    }
   ],
   "source": [
    "df['price_range'].value_counts(dropna = False)"
   ]
  },
  {
   "cell_type": "code",
   "execution_count": 15,
   "id": "09badb3b-3467-4a67-9616-65690b5de198",
   "metadata": {},
   "outputs": [
    {
     "data": {
      "text/plain": [
       "(1000000, 16)"
      ]
     },
     "execution_count": 15,
     "metadata": {},
     "output_type": "execute_result"
    }
   ],
   "source": [
    "df.shape"
   ]
  },
  {
   "cell_type": "code",
   "execution_count": 16,
   "id": "751688e1-3f53-4484-8981-19a18da1cd5a",
   "metadata": {},
   "outputs": [
    {
     "data": {
      "text/plain": [
       "99999.0"
      ]
     },
     "execution_count": 16,
     "metadata": {},
     "output_type": "execute_result"
    }
   ],
   "source": [
    "# checking the most expensive product in the subset\n",
    "df['prices'].max()"
   ]
  },
  {
   "cell_type": "markdown",
   "id": "db76bbc6-c020-4cce-bc29-27613ddae203",
   "metadata": {},
   "source": [
    "## 03. Loc Function with several conditions"
   ]
  },
  {
   "cell_type": "code",
   "execution_count": 17,
   "id": "21de733b-d07c-47cb-8ca2-9a67d6818395",
   "metadata": {},
   "outputs": [],
   "source": [
    "# creating conditions with loc function:\n",
    "\n",
    "df.loc[df['prices'] > 15, 'price_range_loc'] = 'High-range product'\n",
    "df.loc[(df['prices'] <= 15) & (df['prices'] > 5), 'price_range_loc'] = 'Mid-range product' \n",
    "df.loc[df['prices'] <= 5, 'price_range_loc'] = 'Low-range product'"
   ]
  },
  {
   "cell_type": "markdown",
   "id": "a0d5efd6-af90-4cb6-8055-18bf53aa7c8b",
   "metadata": {},
   "source": [
    "When entering the code into Jupyter, use different cells for each condition, otherwise error will happen.\n",
    "\n",
    "Or use function .copy(); then there's no need to write each condition on different cells."
   ]
  },
  {
   "cell_type": "code",
   "execution_count": 18,
   "id": "703dafe2-8644-477e-8eea-f6398351dc2a",
   "metadata": {},
   "outputs": [],
   "source": [
    "df.loc[df['prices'] > 15, 'price_range_loc'] = 'High-range product'"
   ]
  },
  {
   "cell_type": "code",
   "execution_count": 19,
   "id": "122dd55e-80de-4c13-b405-0cc2fd2432ca",
   "metadata": {},
   "outputs": [],
   "source": [
    "df.loc[(df['prices'] <= 15) & (df['prices'] > 5), 'price_range_loc'] = 'Mid-range product'"
   ]
  },
  {
   "cell_type": "code",
   "execution_count": 20,
   "id": "96f32ec4-2b27-46f1-8ac1-6080e6d41f52",
   "metadata": {},
   "outputs": [],
   "source": [
    "df.loc[df['prices'] <= 5, 'price_range_loc'] = 'Low-range product'"
   ]
  },
  {
   "cell_type": "code",
   "execution_count": 21,
   "id": "80833cf0-a513-4ec5-94e1-6254966645fb",
   "metadata": {},
   "outputs": [
    {
     "data": {
      "text/plain": [
       "price_range_loc\n",
       "Mid-range product     673183\n",
       "Low-range product     314392\n",
       "High-range product     12425\n",
       "Name: count, dtype: int64"
      ]
     },
     "execution_count": 21,
     "metadata": {},
     "output_type": "execute_result"
    }
   ],
   "source": [
    "df['price_range_loc'].value_counts(dropna = False)"
   ]
  },
  {
   "cell_type": "markdown",
   "id": "e142f81f-c4c2-47f0-9a9e-fd16cd221c19",
   "metadata": {},
   "source": [
    "### Reasons to use loc function:\n",
    "Using loc() won’t result in a warning message. While this won’t actually interfere with your work, it’s still a sign that, for whatever reason, Python thinks you should be doing something different. \n",
    "\n",
    "#### Second, the loc() method runs much faster; the loc() function applies the conditional filters before searching through the dataframe, while your user-defined function searches through the entire dataframe and then determines where to set the filters (remember axis = 1?).\n",
    "\n",
    "The loc() function allows tow filter the entire dataframe rather than just a subset"
   ]
  },
  {
   "cell_type": "code",
   "execution_count": 22,
   "id": "3c8f41b3-ec3c-4bea-a2df-1b28ca907a1a",
   "metadata": {},
   "outputs": [],
   "source": [
    "# now lets apply it to the entire dataframe:\n",
    "\n",
    "ords_prods_merge.loc[ords_prods_merge['prices'] > 15, 'price_range_loc'] = 'High-range product' "
   ]
  },
  {
   "cell_type": "code",
   "execution_count": 23,
   "id": "700213e2-252e-4470-a94a-582cad8fa78b",
   "metadata": {},
   "outputs": [],
   "source": [
    "ords_prods_merge.loc[(ords_prods_merge['prices'] <= 15) & (ords_prods_merge['prices'] > 5), 'price_range_loc'] = 'Mid-range product'"
   ]
  },
  {
   "cell_type": "code",
   "execution_count": 24,
   "id": "d957f74a-fb85-450c-a338-0b6bb8a4fbd5",
   "metadata": {},
   "outputs": [],
   "source": [
    "ords_prods_merge.loc[ords_prods_merge['prices'] <= 5, 'price_range_loc'] = 'Low-range product'"
   ]
  },
  {
   "cell_type": "code",
   "execution_count": 25,
   "id": "c469f70f-c49d-4e71-9a86-e852a8ec83a1",
   "metadata": {},
   "outputs": [
    {
     "data": {
      "text/plain": [
       "price_range_loc\n",
       "Mid-range product     21860860\n",
       "Low-range product     10126321\n",
       "High-range product      417678\n",
       "Name: count, dtype: int64"
      ]
     },
     "execution_count": 25,
     "metadata": {},
     "output_type": "execute_result"
    }
   ],
   "source": [
    "ords_prods_merge['price_range_loc'].value_counts(dropna = False)"
   ]
  },
  {
   "cell_type": "markdown",
   "id": "8a420362-9b63-4efd-af1e-42eb0ade7493",
   "metadata": {},
   "source": [
    "Thanks to loc(), you can now filter the entire dataframe rather than just a subset. If you’d tried to do the same thing with your user-defined function, you would likely have received a memory error, but not so with loc(). That’s the power of Python!"
   ]
  },
  {
   "cell_type": "markdown",
   "id": "582c9499-dfbb-4e4a-b741-a624b8c51b28",
   "metadata": {},
   "source": [
    "### 04. For-Loops"
   ]
  },
  {
   "cell_type": "markdown",
   "id": "cfeb0853-5ee4-4b4a-95f7-8495ced82f02",
   "metadata": {},
   "source": [
    "For-loops, as their name implies, are loops for running the same block of code multiple times. They’re used to perform the same function on multiple elements, for instance, by running through an entire dataframe and performing a function on each row within that dataframe."
   ]
  },
  {
   "cell_type": "code",
   "execution_count": 26,
   "id": "caa4856e-b8fe-4bc5-99d6-db443647f24d",
   "metadata": {},
   "outputs": [
    {
     "name": "stdout",
     "output_type": "stream",
     "text": [
      "My age is 30\n",
      "My age is 31\n",
      "My age is 32\n",
      "My age is 33\n",
      "My age is 34\n",
      "My age is 35\n",
      "My age is 36\n",
      "My age is 37\n",
      "My age is 38\n",
      "My age is 39\n",
      "My age is 40\n",
      "My age is 41\n",
      "My age is 42\n",
      "My age is 43\n",
      "My age is 44\n"
     ]
    }
   ],
   "source": [
    "# example: \n",
    "for x in range (30,45):\n",
    "    print('My age is %d' % (x))"
   ]
  },
  {
   "cell_type": "markdown",
   "id": "ae697124-98c5-4525-9add-c1c4982cc0a0",
   "metadata": {},
   "source": [
    "To start, you need to know on which day most orders take place. You can find this out by printing the frequency of the “orders_day_of_week” column, which would look like this:"
   ]
  },
  {
   "cell_type": "code",
   "execution_count": 27,
   "id": "bdfbf15a-20ed-4d48-b386-6e5025d212bb",
   "metadata": {},
   "outputs": [
    {
     "data": {
      "text/plain": [
       "orders_day_of_week\n",
       "0    6204182\n",
       "1    5660230\n",
       "6    4496490\n",
       "2    4213830\n",
       "5    4205791\n",
       "3    3840534\n",
       "4    3783802\n",
       "Name: count, dtype: int64"
      ]
     },
     "execution_count": 27,
     "metadata": {},
     "output_type": "execute_result"
    }
   ],
   "source": [
    "ords_prods_merge['orders_day_of_week'].value_counts(dropna = False)"
   ]
  },
  {
   "cell_type": "markdown",
   "id": "200effce-29e8-46d1-9683-391b6a85b7a9",
   "metadata": {},
   "source": [
    "Now, you have some numbers. But what do these numbers mean? In your project brief, you can see that the value 0 means Saturday. This value has the highest frequency, meaning Saturday is the busiest day. Meanwhile, the 4 value has the lowest frequency. A value of 4, here, refers to Wednesday, meaning Wednesday is the slowest day for Instacart app orders.\n",
    "\n",
    "You want to use this information to create a new column, “busiest day,” that will contain one of three different values: “Busiest day,” “Least busy,” and “Regularly busy.” This can be done using a for-loop. The loop will run through every row in the “orders_day_of_week” column, compare its value with what you know are the busiest and slowest days, and assign it the corresponding string value."
   ]
  },
  {
   "cell_type": "markdown",
   "id": "cf2feec7-df31-4122-aeb8-93cc23f98abc",
   "metadata": {},
   "source": [
    "### 04.1: The if-statements with For-Loops"
   ]
  },
  {
   "cell_type": "code",
   "execution_count": 28,
   "id": "329e42ca-3122-4c37-8d25-871f12576598",
   "metadata": {},
   "outputs": [],
   "source": [
    "# the code looks like this:\n",
    "\n",
    "result = []\n",
    "\n",
    "for value in ords_prods_merge[\"orders_day_of_week\"]:\n",
    "  if value == 0:\n",
    "    result.append(\"Busiest day\")\n",
    "  elif value == 4:\n",
    "    result.append(\"Least busy\")\n",
    "  else:\n",
    "    result.append(\"Regularly busy\")"
   ]
  },
  {
   "cell_type": "markdown",
   "id": "deb5e9bf-e4a4-4166-abbd-b71c6e2ac841",
   "metadata": {},
   "source": [
    "result is the empty list, where the results from the loop will be put. \n",
    "Then there's the loop. "
   ]
  },
  {
   "cell_type": "code",
   "execution_count": null,
   "id": "f8d518f9-fe2e-4b20-ace7-6e4265e37f42",
   "metadata": {},
   "outputs": [],
   "source": [
    "result"
   ]
  },
  {
   "cell_type": "code",
   "execution_count": 30,
   "id": "ca3f0345-6dfb-47e8-881d-f71a2bd71865",
   "metadata": {},
   "outputs": [],
   "source": [
    "# let's now combine this list with the dataframe: \n",
    "\n",
    "ords_prods_merge['busiest_day'] = result"
   ]
  },
  {
   "cell_type": "code",
   "execution_count": 31,
   "id": "c0a9fbfd-a450-4d87-aac9-5b8c306d191a",
   "metadata": {},
   "outputs": [
    {
     "data": {
      "text/plain": [
       "busiest_day\n",
       "Regularly busy    22416875\n",
       "Busiest day        6204182\n",
       "Least busy         3783802\n",
       "Name: count, dtype: int64"
      ]
     },
     "execution_count": 31,
     "metadata": {},
     "output_type": "execute_result"
    }
   ],
   "source": [
    "ords_prods_merge['busiest_day'].value_counts(dropna = False)"
   ]
  },
  {
   "cell_type": "markdown",
   "id": "bf86ac10-df3b-4f85-9883-3833e8bd2f77",
   "metadata": {},
   "source": [
    "## Task Submission"
   ]
  },
  {
   "cell_type": "markdown",
   "id": "c76769b3-40ef-4699-8555-4b38cfb4febb",
   "metadata": {},
   "source": [
    "#### Question:\n",
    "Suppose your clients have changed their minds about the labels you created in your “busiest_day” column. Now, they want “Busiest day” to become “Busiest days” (plural). This label should correspond with the two busiest days of the week as opposed to the single busiest day. At the same time, they’d also like to know the two slowest days. Create a new column for this using a suitable method."
   ]
  },
  {
   "cell_type": "markdown",
   "id": "fa8cf8ca-74a1-41b5-9497-d858012aa465",
   "metadata": {},
   "source": [
    "#### Answer:"
   ]
  },
  {
   "cell_type": "code",
   "execution_count": 32,
   "id": "3b3917f9-e788-4de7-ba12-bc4b536bae4a",
   "metadata": {},
   "outputs": [
    {
     "data": {
      "text/plain": [
       "orders_day_of_week\n",
       "0    6204182\n",
       "1    5660230\n",
       "6    4496490\n",
       "2    4213830\n",
       "5    4205791\n",
       "3    3840534\n",
       "4    3783802\n",
       "Name: count, dtype: int64"
      ]
     },
     "execution_count": 32,
     "metadata": {},
     "output_type": "execute_result"
    }
   ],
   "source": [
    "# checking the affluence of orders throughout the week:\n",
    "ords_prods_merge['orders_day_of_week'].value_counts(dropna = False)"
   ]
  },
  {
   "cell_type": "markdown",
   "id": "79538b42-0990-4c8b-8e22-7d9a15d3e8d3",
   "metadata": {},
   "source": [
    "In the project brief, the value 0 means Saturday. This value has the highest frequency, meaning Saturday is the busiest day, followed by Sunday. Meanwhile, the 4 value has the lowest frequency. A value of 4, here, refers to Wednesday, meaning Wednesday is the slowest day for Instacart app orders. The other slowest day is Tuesday."
   ]
  },
  {
   "cell_type": "markdown",
   "id": "601ae1da-2c42-4aa3-a33d-9930b0317ea5",
   "metadata": {},
   "source": [
    "#### Approach with loc function and its conditions"
   ]
  },
  {
   "cell_type": "code",
   "execution_count": 38,
   "id": "96265c96-3dbc-4f39-ad37-4cb4f1149625",
   "metadata": {},
   "outputs": [],
   "source": [
    "# the code looks like this:\n",
    "\n",
    "ords_prods_merge.loc[(ords_prods_merge['orders_day_of_week'] == 0) | (ords_prods_merge['orders_day_of_week'] == 1), 'orders_affluence'] = 'Busiest days' \n",
    "\n",
    "ords_prods_merge.loc[(ords_prods_merge['orders_day_of_week'] == 4) | (ords_prods_merge['orders_day_of_week'] == 3), 'orders_affluence'] = 'Least busy days'\n",
    "\n",
    "ords_prods_merge.loc[(ords_prods_merge['orders_day_of_week'] == 6) | (ords_prods_merge['orders_day_of_week'] == 2) | (ords_prods_merge['orders_day_of_week'] == 5), 'orders_affluence'] = 'Regularly busy'"
   ]
  },
  {
   "cell_type": "markdown",
   "id": "20c19804-de99-4f17-a5e4-845489eaabc7",
   "metadata": {},
   "source": [
    "#### Approach with loc function, its conditions and .isin function"
   ]
  },
  {
   "cell_type": "markdown",
   "id": "3b40043b-6bf3-4c7d-a7b3-bb1143306323",
   "metadata": {},
   "source": [
    "this would be an easier way to write it down:\n",
    "\n",
    ".isin([]) can spare from writing a lot.\n",
    "\n",
    "```python \n",
    "ords_prods_merge.loc[ords_prods_merge['orders_day_of_week'].isin([0, 1]), 'orders_affluence'] = 'Busiest days'\n",
    "ords_prods_merge.loc[ords_prods_merge['orders_day_of_week'].isin([3, 4]), 'orders_affluence'] = 'Least busy days'\n",
    "ords_prods_merge.loc[ords_prods_merge['orders_day_of_week'].isin([2, 5, 6]), 'orders_affluence'] = 'Regularly busy'\n"
   ]
  },
  {
   "cell_type": "markdown",
   "id": "218be649-7a47-4e55-8220-8fb96511b7bf",
   "metadata": {},
   "source": [
    "#### Approach with For Loops and if-else statements"
   ]
  },
  {
   "cell_type": "markdown",
   "id": "e88ab28d-89b9-494e-8c87-c41fe1b47ed5",
   "metadata": {},
   "source": [
    "This was learned on the course.\n",
    "```python\n",
    "results = []\n",
    "\n",
    "for value in ords_prods_merge[\"orders_day_of_week\"]:\n",
    "    if value in (0, 1):\n",
    "        results.append(\"Busiest days\")\n",
    "    elif value in(3, 4):\n",
    "        results.append(\"Slowest days\")\n",
    "    else:\n",
    "        results.append(\"Regular days\")"
   ]
  },
  {
   "cell_type": "markdown",
   "id": "99fed777-9e54-4126-b052-aceb25c28e11",
   "metadata": {},
   "source": [
    "Then, attributing the index results to the dataframe:\n",
    "```python    \n",
    "ords_prods_merge['orders_affluence'] = result"
   ]
  },
  {
   "cell_type": "markdown",
   "id": "a84ed37f-2318-4a26-b35a-20e0c49ca3ca",
   "metadata": {},
   "source": [
    "##### Problems with this approach:\n",
    "It goes row by row, meaning it's much slower when there's a huge dataframe, which is the case.\n",
    "\n",
    "It uses more RAM, it's less efficient. \n",
    "\n",
    "So, avoid it."
   ]
  },
  {
   "cell_type": "markdown",
   "id": "92b13e9b-58a9-41bd-915a-8dde45002049",
   "metadata": {},
   "source": [
    "#### Approach with .map function (Easy and most RAM efficient)"
   ]
  },
  {
   "cell_type": "markdown",
   "id": "bc77e9f6-88a1-4c4c-8657-55fa006971cb",
   "metadata": {},
   "source": [
    "This was not learned in the course.\n",
    "\n",
    "this would be the most efficient way in terms of RAM usage:\n",
    "```python\n",
    "day_map = {\n",
    "    0: 'Busiest days', \n",
    "    1: 'Busiest days',\n",
    "    3: 'Least busy days',\n",
    "    4: 'Least busy days',\n",
    "    2: 'Regularly busy',\n",
    "    5: 'Regularly busy',\n",
    "    6: 'Regularly busy'\n",
    "}\n",
    "\n",
    "ords_prods_merge['orders_affluence'] = ords_prods_merge['orders_day_of_week'].map(day_map)"
   ]
  },
  {
   "cell_type": "code",
   "execution_count": 42,
   "id": "2f78a50a-f8bc-43d7-8cf9-b32fad7edeb1",
   "metadata": {
    "scrolled": true
   },
   "outputs": [
    {
     "data": {
      "text/plain": [
       "orders_affluence\n",
       "Regularly busy     12916111\n",
       "Busiest days       11864412\n",
       "Least busy days     7624336\n",
       "Name: count, dtype: int64"
      ]
     },
     "execution_count": 42,
     "metadata": {},
     "output_type": "execute_result"
    }
   ],
   "source": [
    "# checking values:\n",
    "ords_prods_merge['orders_affluence'].value_counts(dropna = False)"
   ]
  },
  {
   "cell_type": "code",
   "execution_count": 43,
   "id": "84c74f30-fb46-4d2c-b19c-26f136e73969",
   "metadata": {},
   "outputs": [
    {
     "data": {
      "text/plain": [
       "(32404859, 18)"
      ]
     },
     "execution_count": 43,
     "metadata": {},
     "output_type": "execute_result"
    }
   ],
   "source": [
    "ords_prods_merge.shape"
   ]
  },
  {
   "cell_type": "markdown",
   "id": "b98f374f-0f4b-409b-81a8-a0799da17da8",
   "metadata": {
    "jp-MarkdownHeadingCollapsed": true
   },
   "source": [
    "#### Question:\n",
    "When too many users make Instacart orders at the same time, the app freezes. The senior technical officer at Instacart wants you to identify the busiest hours of the day. Rather than by hour, they want periods of time labeled “Most orders,” “Average orders,” and “Fewest orders.” Create a new column containing these labels called “busiest_period_of_day.”"
   ]
  },
  {
   "cell_type": "markdown",
   "id": "c351abfc-d6f5-45f0-aa66-45cb24499fee",
   "metadata": {},
   "source": [
    "#### Answer:"
   ]
  },
  {
   "cell_type": "code",
   "execution_count": 44,
   "id": "2600b5d7-3052-4c87-87d1-e740da5baf30",
   "metadata": {},
   "outputs": [
    {
     "data": {
      "text/plain": [
       "order_hour_of_day\n",
       "10    2761760\n",
       "11    2736140\n",
       "14    2689136\n",
       "15    2662144\n",
       "13    2660954\n",
       "12    2618532\n",
       "16    2535202\n",
       "9     2454203\n",
       "17    2087654\n",
       "8     1718118\n",
       "18    1636502\n",
       "19    1258305\n",
       "20     976156\n",
       "7      891054\n",
       "21     795637\n",
       "22     634225\n",
       "23     402316\n",
       "6      290493\n",
       "0      218769\n",
       "1      115700\n",
       "5       87961\n",
       "2       69375\n",
       "4       53242\n",
       "3       51281\n",
       "Name: count, dtype: int64"
      ]
     },
     "execution_count": 44,
     "metadata": {},
     "output_type": "execute_result"
    }
   ],
   "source": [
    "# checking frequencies:\n",
    "ords_prods_merge['order_hour_of_day'].value_counts(dropna = False)"
   ]
  },
  {
   "cell_type": "code",
   "execution_count": 48,
   "id": "13a8100a-e1b9-40c6-a47b-ae10f72c2700",
   "metadata": {},
   "outputs": [],
   "source": [
    "# Defining periods of time (dividing 24/3 = 8):\n",
    "most_orders = [10, 11, 14, 15, 13, 12, 16, 9]\n",
    "average_orders = [17, 8, 18, 19, 20, 7, 21, 22]\n",
    "fewest_orders =[23, 6, 0, 1, 5, 2, 4, 3]"
   ]
  },
  {
   "cell_type": "markdown",
   "id": "3c0db6d3-6093-49e0-8a98-80305eaba0f4",
   "metadata": {},
   "source": [
    "corrected version from tutor Saurabh\n",
    "````python\n",
    "result3 = []\n",
    "\n",
    "for value in ords_prods_merged['order_hour_of_day']:\n",
    "  if value >= 9 and value <= 16:\n",
    "    result3.append(\"Most Orders\")\n",
    "  elif value >= 0 and value <=6:\n",
    "    result3.append(\"Fewest Orders\")\n",
    "  else:\n",
    "    result3.append(\"Average Orders\")\n",
    "Saurabh/Daniela\n",
    "\n",
    "# What I've done is not wrong but I could have taken this approach"
   ]
  },
  {
   "cell_type": "code",
   "execution_count": 49,
   "id": "6d49b5b9-6ef0-4fc6-b19e-cd5498b200f2",
   "metadata": {},
   "outputs": [],
   "source": [
    "# lets try loc function:\n",
    "ords_prods_merge.loc[ords_prods_merge['order_hour_of_day'].isin(most_orders), 'busiest_period_of_day'] = 'Most orders'\n",
    "\n",
    "ords_prods_merge.loc[ords_prods_merge['order_hour_of_day'].isin(average_orders), 'busiest_period_of_day'] = 'Average orders'\n",
    "\n",
    "ords_prods_merge.loc[ords_prods_merge['order_hour_of_day'].isin(fewest_orders), 'busiest_period_of_day'] = 'Fewest orders'"
   ]
  },
  {
   "cell_type": "markdown",
   "id": "a52ec806-abea-482b-86ba-82cadc94da5e",
   "metadata": {},
   "source": [
    "#### Approach with .map\n",
    "\n",
    "````python\n",
    "hour_map = {hour: 'Most orders' for hour in most_orders}\n",
    "hour_map.update({hour: 'Average orders' for hour in average_orders})\n",
    "hour_map.update({hour: 'Fewest orders' for hour in fewest_orders})\n",
    "\n",
    "And then applying it:\n",
    "\n",
    "ords_prods_merge['busiest_period_of_day'] = ords_prods_merge['order_hour_of_day'].map(hour_map)"
   ]
  },
  {
   "cell_type": "markdown",
   "id": "e5ab9fbd-4ba8-4a3a-8ea4-ee6d3948e69c",
   "metadata": {},
   "source": [
    "#### Question:\n",
    "Print the frequency for this new column."
   ]
  },
  {
   "cell_type": "markdown",
   "id": "f6c592b9-10d9-4043-9ce5-a4a5f7af0a5f",
   "metadata": {},
   "source": [
    "#### Answer:"
   ]
  },
  {
   "cell_type": "code",
   "execution_count": 50,
   "id": "28699b4b-aa2e-473b-bd47-3bcb39c187be",
   "metadata": {},
   "outputs": [
    {
     "data": {
      "text/plain": [
       "busiest_period_of_day\n",
       "Most orders       21118071\n",
       "Average orders     9997651\n",
       "Fewest orders      1289137\n",
       "Name: count, dtype: int64"
      ]
     },
     "execution_count": 50,
     "metadata": {},
     "output_type": "execute_result"
    }
   ],
   "source": [
    "# verifying the results\n",
    "ords_prods_merge['busiest_period_of_day'].value_counts()"
   ]
  },
  {
   "cell_type": "code",
   "execution_count": 51,
   "id": "8ca43bb2-a316-44b7-ac63-d4a43ed2d3de",
   "metadata": {},
   "outputs": [
    {
     "data": {
      "text/plain": [
       "(32404859, 19)"
      ]
     },
     "execution_count": 51,
     "metadata": {},
     "output_type": "execute_result"
    }
   ],
   "source": [
    "ords_prods_merge.shape"
   ]
  },
  {
   "cell_type": "markdown",
   "id": "36830901-b029-4566-89fe-640fe77777ea",
   "metadata": {},
   "source": [
    "#### Exporting new data frames"
   ]
  },
  {
   "cell_type": "code",
   "execution_count": 52,
   "id": "845033f4-641d-4637-921f-ebd850dce4da",
   "metadata": {},
   "outputs": [],
   "source": [
    "# Export data to pkl\n",
    "\n",
    "ords_prods_merge.to_pickle(os.path.join(path, 'Prepared Data', 'ords_prods_merge_variables.pkl'))"
   ]
  },
  {
   "cell_type": "code",
   "execution_count": 55,
   "id": "2ad9fd5c-b784-44d1-be43-905f4831edd7",
   "metadata": {},
   "outputs": [
    {
     "data": {
      "text/plain": [
       "Index(['order_id', 'user_id', 'order_number', 'orders_day_of_week',\n",
       "       'order_hour_of_day', 'days_since_prior_order', 'product_id',\n",
       "       'add_to_cart_order', 'reordered', '_merge', 'product_name', 'aisle_id',\n",
       "       'department_id', 'prices', 'match', 'price_range_loc', 'busiest_day',\n",
       "       'orders_affluence', 'busiest_period_of_day'],\n",
       "      dtype='object')"
      ]
     },
     "execution_count": 55,
     "metadata": {},
     "output_type": "execute_result"
    }
   ],
   "source": [
    "ords_prods_merge.columns"
   ]
  },
  {
   "cell_type": "code",
   "execution_count": 54,
   "id": "f0609780-f4b8-4161-9ccb-5528d6851284",
   "metadata": {},
   "outputs": [
    {
     "data": {
      "text/plain": [
       "(32404859, 19)"
      ]
     },
     "execution_count": 54,
     "metadata": {},
     "output_type": "execute_result"
    }
   ],
   "source": [
    "ords_prods_merge.shape"
   ]
  },
  {
   "cell_type": "code",
   "execution_count": null,
   "id": "5b57f54f-711c-4462-a134-76c32d013ead",
   "metadata": {},
   "outputs": [],
   "source": []
  }
 ],
 "metadata": {
  "kernelspec": {
   "display_name": "Python [conda env:base] *",
   "language": "python",
   "name": "conda-base-py"
  },
  "language_info": {
   "codemirror_mode": {
    "name": "ipython",
    "version": 3
   },
   "file_extension": ".py",
   "mimetype": "text/x-python",
   "name": "python",
   "nbconvert_exporter": "python",
   "pygments_lexer": "ipython3",
   "version": "3.13.5"
  }
 },
 "nbformat": 4,
 "nbformat_minor": 5
}
